{
 "cells": [
  {
   "cell_type": "code",
   "execution_count": 1,
   "id": "f7de665e",
   "metadata": {},
   "outputs": [
    {
     "name": "stdout",
     "output_type": "stream",
     "text": [
      "Requirement already satisfied: tensorflow in c:\\users\\elcot\\anaconda3\\lib\\site-packages (2.12.0)\n",
      "Requirement already satisfied: tensorflow-intel==2.12.0 in c:\\users\\elcot\\anaconda3\\lib\\site-packages (from tensorflow) (2.12.0)\n",
      "Requirement already satisfied: numpy<1.24,>=1.22 in c:\\users\\elcot\\anaconda3\\lib\\site-packages (from tensorflow-intel==2.12.0->tensorflow) (1.23.5)\n",
      "Requirement already satisfied: jax>=0.3.15 in c:\\users\\elcot\\anaconda3\\lib\\site-packages (from tensorflow-intel==2.12.0->tensorflow) (0.4.8)\n",
      "Requirement already satisfied: termcolor>=1.1.0 in c:\\users\\elcot\\anaconda3\\lib\\site-packages (from tensorflow-intel==2.12.0->tensorflow) (2.2.0)\n",
      "Requirement already satisfied: h5py>=2.9.0 in c:\\users\\elcot\\anaconda3\\lib\\site-packages (from tensorflow-intel==2.12.0->tensorflow) (3.7.0)\n",
      "Requirement already satisfied: absl-py>=1.0.0 in c:\\users\\elcot\\anaconda3\\lib\\site-packages (from tensorflow-intel==2.12.0->tensorflow) (1.4.0)\n",
      "Requirement already satisfied: typing-extensions>=3.6.6 in c:\\users\\elcot\\anaconda3\\lib\\site-packages (from tensorflow-intel==2.12.0->tensorflow) (4.3.0)\n",
      "Requirement already satisfied: keras<2.13,>=2.12.0 in c:\\users\\elcot\\anaconda3\\lib\\site-packages (from tensorflow-intel==2.12.0->tensorflow) (2.12.0)\n",
      "Requirement already satisfied: wrapt<1.15,>=1.11.0 in c:\\users\\elcot\\anaconda3\\lib\\site-packages (from tensorflow-intel==2.12.0->tensorflow) (1.14.1)\n",
      "Requirement already satisfied: opt-einsum>=2.3.2 in c:\\users\\elcot\\anaconda3\\lib\\site-packages (from tensorflow-intel==2.12.0->tensorflow) (3.3.0)\n",
      "Requirement already satisfied: grpcio<2.0,>=1.24.3 in c:\\users\\elcot\\anaconda3\\lib\\site-packages (from tensorflow-intel==2.12.0->tensorflow) (1.53.0)\n",
      "Requirement already satisfied: astunparse>=1.6.0 in c:\\users\\elcot\\anaconda3\\lib\\site-packages (from tensorflow-intel==2.12.0->tensorflow) (1.6.3)\n",
      "Requirement already satisfied: packaging in c:\\users\\elcot\\anaconda3\\lib\\site-packages (from tensorflow-intel==2.12.0->tensorflow) (21.3)\n",
      "Requirement already satisfied: protobuf!=4.21.0,!=4.21.1,!=4.21.2,!=4.21.3,!=4.21.4,!=4.21.5,<5.0.0dev,>=3.20.3 in c:\\users\\elcot\\anaconda3\\lib\\site-packages (from tensorflow-intel==2.12.0->tensorflow) (4.22.3)\n",
      "Requirement already satisfied: google-pasta>=0.1.1 in c:\\users\\elcot\\anaconda3\\lib\\site-packages (from tensorflow-intel==2.12.0->tensorflow) (0.2.0)\n",
      "Requirement already satisfied: tensorboard<2.13,>=2.12 in c:\\users\\elcot\\anaconda3\\lib\\site-packages (from tensorflow-intel==2.12.0->tensorflow) (2.12.2)\n",
      "Requirement already satisfied: tensorflow-estimator<2.13,>=2.12.0 in c:\\users\\elcot\\anaconda3\\lib\\site-packages (from tensorflow-intel==2.12.0->tensorflow) (2.12.0)\n",
      "Requirement already satisfied: setuptools in c:\\users\\elcot\\anaconda3\\lib\\site-packages (from tensorflow-intel==2.12.0->tensorflow) (63.4.1)\n",
      "Requirement already satisfied: flatbuffers>=2.0 in c:\\users\\elcot\\anaconda3\\lib\\site-packages (from tensorflow-intel==2.12.0->tensorflow) (23.3.3)\n",
      "Requirement already satisfied: libclang>=13.0.0 in c:\\users\\elcot\\anaconda3\\lib\\site-packages (from tensorflow-intel==2.12.0->tensorflow) (16.0.0)\n",
      "Requirement already satisfied: tensorflow-io-gcs-filesystem>=0.23.1 in c:\\users\\elcot\\anaconda3\\lib\\site-packages (from tensorflow-intel==2.12.0->tensorflow) (0.31.0)\n",
      "Requirement already satisfied: gast<=0.4.0,>=0.2.1 in c:\\users\\elcot\\anaconda3\\lib\\site-packages (from tensorflow-intel==2.12.0->tensorflow) (0.4.0)\n",
      "Requirement already satisfied: six>=1.12.0 in c:\\users\\elcot\\anaconda3\\lib\\site-packages (from tensorflow-intel==2.12.0->tensorflow) (1.16.0)\n",
      "Requirement already satisfied: wheel<1.0,>=0.23.0 in c:\\users\\elcot\\anaconda3\\lib\\site-packages (from astunparse>=1.6.0->tensorflow-intel==2.12.0->tensorflow) (0.37.1)\n",
      "Requirement already satisfied: ml-dtypes>=0.0.3 in c:\\users\\elcot\\anaconda3\\lib\\site-packages (from jax>=0.3.15->tensorflow-intel==2.12.0->tensorflow) (0.1.0)\n",
      "Requirement already satisfied: scipy>=1.7 in c:\\users\\elcot\\anaconda3\\lib\\site-packages (from jax>=0.3.15->tensorflow-intel==2.12.0->tensorflow) (1.9.1)\n",
      "Requirement already satisfied: google-auth<3,>=1.6.3 in c:\\users\\elcot\\anaconda3\\lib\\site-packages (from tensorboard<2.13,>=2.12->tensorflow-intel==2.12.0->tensorflow) (2.17.3)\n",
      "Requirement already satisfied: markdown>=2.6.8 in c:\\users\\elcot\\anaconda3\\lib\\site-packages (from tensorboard<2.13,>=2.12->tensorflow-intel==2.12.0->tensorflow) (3.3.4)\n",
      "Requirement already satisfied: requests<3,>=2.21.0 in c:\\users\\elcot\\anaconda3\\lib\\site-packages (from tensorboard<2.13,>=2.12->tensorflow-intel==2.12.0->tensorflow) (2.28.1)\n",
      "Requirement already satisfied: google-auth-oauthlib<1.1,>=0.5 in c:\\users\\elcot\\anaconda3\\lib\\site-packages (from tensorboard<2.13,>=2.12->tensorflow-intel==2.12.0->tensorflow) (1.0.0)\n",
      "Requirement already satisfied: tensorboard-data-server<0.8.0,>=0.7.0 in c:\\users\\elcot\\anaconda3\\lib\\site-packages (from tensorboard<2.13,>=2.12->tensorflow-intel==2.12.0->tensorflow) (0.7.0)\n",
      "Requirement already satisfied: werkzeug>=1.0.1 in c:\\users\\elcot\\anaconda3\\lib\\site-packages (from tensorboard<2.13,>=2.12->tensorflow-intel==2.12.0->tensorflow) (2.0.3)\n",
      "Requirement already satisfied: tensorboard-plugin-wit>=1.6.0 in c:\\users\\elcot\\anaconda3\\lib\\site-packages (from tensorboard<2.13,>=2.12->tensorflow-intel==2.12.0->tensorflow) (1.8.1)\n",
      "Requirement already satisfied: pyparsing!=3.0.5,>=2.0.2 in c:\\users\\elcot\\anaconda3\\lib\\site-packages (from packaging->tensorflow-intel==2.12.0->tensorflow) (3.0.9)\n",
      "Requirement already satisfied: cachetools<6.0,>=2.0.0 in c:\\users\\elcot\\anaconda3\\lib\\site-packages (from google-auth<3,>=1.6.3->tensorboard<2.13,>=2.12->tensorflow-intel==2.12.0->tensorflow) (5.3.0)\n",
      "Requirement already satisfied: rsa<5,>=3.1.4 in c:\\users\\elcot\\anaconda3\\lib\\site-packages (from google-auth<3,>=1.6.3->tensorboard<2.13,>=2.12->tensorflow-intel==2.12.0->tensorflow) (4.9)\n",
      "Requirement already satisfied: pyasn1-modules>=0.2.1 in c:\\users\\elcot\\anaconda3\\lib\\site-packages (from google-auth<3,>=1.6.3->tensorboard<2.13,>=2.12->tensorflow-intel==2.12.0->tensorflow) (0.2.8)\n",
      "Requirement already satisfied: requests-oauthlib>=0.7.0 in c:\\users\\elcot\\anaconda3\\lib\\site-packages (from google-auth-oauthlib<1.1,>=0.5->tensorboard<2.13,>=2.12->tensorflow-intel==2.12.0->tensorflow) (1.3.1)\n",
      "Requirement already satisfied: certifi>=2017.4.17 in c:\\users\\elcot\\anaconda3\\lib\\site-packages (from requests<3,>=2.21.0->tensorboard<2.13,>=2.12->tensorflow-intel==2.12.0->tensorflow) (2022.9.14)\n",
      "Requirement already satisfied: idna<4,>=2.5 in c:\\users\\elcot\\anaconda3\\lib\\site-packages (from requests<3,>=2.21.0->tensorboard<2.13,>=2.12->tensorflow-intel==2.12.0->tensorflow) (3.3)\n",
      "Requirement already satisfied: charset-normalizer<3,>=2 in c:\\users\\elcot\\anaconda3\\lib\\site-packages (from requests<3,>=2.21.0->tensorboard<2.13,>=2.12->tensorflow-intel==2.12.0->tensorflow) (2.0.4)\n",
      "Requirement already satisfied: urllib3<1.27,>=1.21.1 in c:\\users\\elcot\\anaconda3\\lib\\site-packages (from requests<3,>=2.21.0->tensorboard<2.13,>=2.12->tensorflow-intel==2.12.0->tensorflow) (1.26.11)\n",
      "Requirement already satisfied: pyasn1<0.5.0,>=0.4.6 in c:\\users\\elcot\\anaconda3\\lib\\site-packages (from pyasn1-modules>=0.2.1->google-auth<3,>=1.6.3->tensorboard<2.13,>=2.12->tensorflow-intel==2.12.0->tensorflow) (0.4.8)\n",
      "Requirement already satisfied: oauthlib>=3.0.0 in c:\\users\\elcot\\anaconda3\\lib\\site-packages (from requests-oauthlib>=0.7.0->google-auth-oauthlib<1.1,>=0.5->tensorboard<2.13,>=2.12->tensorflow-intel==2.12.0->tensorflow) (3.2.2)\n"
     ]
    }
   ],
   "source": [
    "!pip install tensorflow\n"
   ]
  },
  {
   "cell_type": "code",
   "execution_count": 2,
   "id": "7016114a",
   "metadata": {},
   "outputs": [],
   "source": [
    "\n",
    "import pandas as pd\n",
    "import numpy as np\n",
    "import pickle\n",
    "import matplotlib.pyplot as plt\n",
    "import seaborn as sns\n",
    "import sklearn\n",
    "from sklearn.preprocessing import LabelEncoder\n",
    "from sklearn.preprocessing import OneHotEncoder\n",
    "from sklearn.linear_model import LogisticRegression\n",
    "from sklearn.tree import DecisionTreeClassifier\n",
    "from sklearn.ensemble import RandomForestClassifier\n",
    "from sklearn.neighbors import KNeighborsClassifier\n",
    "from sklearn.svm import SVC\n",
    "from sklearn.model_selection import RandomizedSearchCV\n",
    "import imblearn\n",
    "from imblearn.over_sampling import SMOTE\n",
    "from sklearn.model_selection import train_test_split\n",
    "from sklearn.preprocessing import StandardScaler\n",
    "from sklearn.metrics import accuracy_score, classification_report, confusion_matrix, f1_score"
   ]
  },
  {
   "cell_type": "code",
   "execution_count": 3,
   "id": "aa58a9ee",
   "metadata": {},
   "outputs": [],
   "source": [
    "\n",
    "data = pd.read_csv(r\"C:\\Users\\ELCOT\\Downloads\\WA_Fn-UseC_-Telco-Customer-Churn.csv\")"
   ]
  },
  {
   "cell_type": "code",
   "execution_count": 4,
   "id": "ef8dfd7f",
   "metadata": {},
   "outputs": [
    {
     "data": {
      "text/html": [
       "<div>\n",
       "<style scoped>\n",
       "    .dataframe tbody tr th:only-of-type {\n",
       "        vertical-align: middle;\n",
       "    }\n",
       "\n",
       "    .dataframe tbody tr th {\n",
       "        vertical-align: top;\n",
       "    }\n",
       "\n",
       "    .dataframe thead th {\n",
       "        text-align: right;\n",
       "    }\n",
       "</style>\n",
       "<table border=\"1\" class=\"dataframe\">\n",
       "  <thead>\n",
       "    <tr style=\"text-align: right;\">\n",
       "      <th></th>\n",
       "      <th>customerID</th>\n",
       "      <th>gender</th>\n",
       "      <th>SeniorCitizen</th>\n",
       "      <th>Partner</th>\n",
       "      <th>Dependents</th>\n",
       "      <th>tenure</th>\n",
       "      <th>PhoneService</th>\n",
       "      <th>MultipleLines</th>\n",
       "      <th>InternetService</th>\n",
       "      <th>OnlineSecurity</th>\n",
       "      <th>...</th>\n",
       "      <th>DeviceProtection</th>\n",
       "      <th>TechSupport</th>\n",
       "      <th>StreamingTV</th>\n",
       "      <th>StreamingMovies</th>\n",
       "      <th>Contract</th>\n",
       "      <th>PaperlessBilling</th>\n",
       "      <th>PaymentMethod</th>\n",
       "      <th>MonthlyCharges</th>\n",
       "      <th>TotalCharges</th>\n",
       "      <th>Churn</th>\n",
       "    </tr>\n",
       "  </thead>\n",
       "  <tbody>\n",
       "    <tr>\n",
       "      <th>0</th>\n",
       "      <td>7590-VHVEG</td>\n",
       "      <td>Female</td>\n",
       "      <td>0</td>\n",
       "      <td>Yes</td>\n",
       "      <td>No</td>\n",
       "      <td>1</td>\n",
       "      <td>No</td>\n",
       "      <td>No phone service</td>\n",
       "      <td>DSL</td>\n",
       "      <td>No</td>\n",
       "      <td>...</td>\n",
       "      <td>No</td>\n",
       "      <td>No</td>\n",
       "      <td>No</td>\n",
       "      <td>No</td>\n",
       "      <td>Month-to-month</td>\n",
       "      <td>Yes</td>\n",
       "      <td>Electronic check</td>\n",
       "      <td>29.85</td>\n",
       "      <td>29.85</td>\n",
       "      <td>No</td>\n",
       "    </tr>\n",
       "    <tr>\n",
       "      <th>1</th>\n",
       "      <td>5575-GNVDE</td>\n",
       "      <td>Male</td>\n",
       "      <td>0</td>\n",
       "      <td>No</td>\n",
       "      <td>No</td>\n",
       "      <td>34</td>\n",
       "      <td>Yes</td>\n",
       "      <td>No</td>\n",
       "      <td>DSL</td>\n",
       "      <td>Yes</td>\n",
       "      <td>...</td>\n",
       "      <td>Yes</td>\n",
       "      <td>No</td>\n",
       "      <td>No</td>\n",
       "      <td>No</td>\n",
       "      <td>One year</td>\n",
       "      <td>No</td>\n",
       "      <td>Mailed check</td>\n",
       "      <td>56.95</td>\n",
       "      <td>1889.5</td>\n",
       "      <td>No</td>\n",
       "    </tr>\n",
       "    <tr>\n",
       "      <th>2</th>\n",
       "      <td>3668-QPYBK</td>\n",
       "      <td>Male</td>\n",
       "      <td>0</td>\n",
       "      <td>No</td>\n",
       "      <td>No</td>\n",
       "      <td>2</td>\n",
       "      <td>Yes</td>\n",
       "      <td>No</td>\n",
       "      <td>DSL</td>\n",
       "      <td>Yes</td>\n",
       "      <td>...</td>\n",
       "      <td>No</td>\n",
       "      <td>No</td>\n",
       "      <td>No</td>\n",
       "      <td>No</td>\n",
       "      <td>Month-to-month</td>\n",
       "      <td>Yes</td>\n",
       "      <td>Mailed check</td>\n",
       "      <td>53.85</td>\n",
       "      <td>108.15</td>\n",
       "      <td>Yes</td>\n",
       "    </tr>\n",
       "    <tr>\n",
       "      <th>3</th>\n",
       "      <td>7795-CFOCW</td>\n",
       "      <td>Male</td>\n",
       "      <td>0</td>\n",
       "      <td>No</td>\n",
       "      <td>No</td>\n",
       "      <td>45</td>\n",
       "      <td>No</td>\n",
       "      <td>No phone service</td>\n",
       "      <td>DSL</td>\n",
       "      <td>Yes</td>\n",
       "      <td>...</td>\n",
       "      <td>Yes</td>\n",
       "      <td>Yes</td>\n",
       "      <td>No</td>\n",
       "      <td>No</td>\n",
       "      <td>One year</td>\n",
       "      <td>No</td>\n",
       "      <td>Bank transfer (automatic)</td>\n",
       "      <td>42.30</td>\n",
       "      <td>1840.75</td>\n",
       "      <td>No</td>\n",
       "    </tr>\n",
       "    <tr>\n",
       "      <th>4</th>\n",
       "      <td>9237-HQITU</td>\n",
       "      <td>Female</td>\n",
       "      <td>0</td>\n",
       "      <td>No</td>\n",
       "      <td>No</td>\n",
       "      <td>2</td>\n",
       "      <td>Yes</td>\n",
       "      <td>No</td>\n",
       "      <td>Fiber optic</td>\n",
       "      <td>No</td>\n",
       "      <td>...</td>\n",
       "      <td>No</td>\n",
       "      <td>No</td>\n",
       "      <td>No</td>\n",
       "      <td>No</td>\n",
       "      <td>Month-to-month</td>\n",
       "      <td>Yes</td>\n",
       "      <td>Electronic check</td>\n",
       "      <td>70.70</td>\n",
       "      <td>151.65</td>\n",
       "      <td>Yes</td>\n",
       "    </tr>\n",
       "  </tbody>\n",
       "</table>\n",
       "<p>5 rows × 21 columns</p>\n",
       "</div>"
      ],
      "text/plain": [
       "   customerID  gender  SeniorCitizen Partner Dependents  tenure PhoneService  \\\n",
       "0  7590-VHVEG  Female              0     Yes         No       1           No   \n",
       "1  5575-GNVDE    Male              0      No         No      34          Yes   \n",
       "2  3668-QPYBK    Male              0      No         No       2          Yes   \n",
       "3  7795-CFOCW    Male              0      No         No      45           No   \n",
       "4  9237-HQITU  Female              0      No         No       2          Yes   \n",
       "\n",
       "      MultipleLines InternetService OnlineSecurity  ... DeviceProtection  \\\n",
       "0  No phone service             DSL             No  ...               No   \n",
       "1                No             DSL            Yes  ...              Yes   \n",
       "2                No             DSL            Yes  ...               No   \n",
       "3  No phone service             DSL            Yes  ...              Yes   \n",
       "4                No     Fiber optic             No  ...               No   \n",
       "\n",
       "  TechSupport StreamingTV StreamingMovies        Contract PaperlessBilling  \\\n",
       "0          No          No              No  Month-to-month              Yes   \n",
       "1          No          No              No        One year               No   \n",
       "2          No          No              No  Month-to-month              Yes   \n",
       "3         Yes          No              No        One year               No   \n",
       "4          No          No              No  Month-to-month              Yes   \n",
       "\n",
       "               PaymentMethod MonthlyCharges  TotalCharges Churn  \n",
       "0           Electronic check          29.85         29.85    No  \n",
       "1               Mailed check          56.95        1889.5    No  \n",
       "2               Mailed check          53.85        108.15   Yes  \n",
       "3  Bank transfer (automatic)          42.30       1840.75    No  \n",
       "4           Electronic check          70.70        151.65   Yes  \n",
       "\n",
       "[5 rows x 21 columns]"
      ]
     },
     "execution_count": 4,
     "metadata": {},
     "output_type": "execute_result"
    }
   ],
   "source": [
    "data.head()"
   ]
  },
  {
   "cell_type": "code",
   "execution_count": 5,
   "id": "a9cc47d1",
   "metadata": {},
   "outputs": [
    {
     "name": "stdout",
     "output_type": "stream",
     "text": [
      "<class 'pandas.core.frame.DataFrame'>\n",
      "RangeIndex: 7043 entries, 0 to 7042\n",
      "Data columns (total 21 columns):\n",
      " #   Column            Non-Null Count  Dtype  \n",
      "---  ------            --------------  -----  \n",
      " 0   customerID        7043 non-null   object \n",
      " 1   gender            7043 non-null   object \n",
      " 2   SeniorCitizen     7043 non-null   int64  \n",
      " 3   Partner           7043 non-null   object \n",
      " 4   Dependents        7043 non-null   object \n",
      " 5   tenure            7043 non-null   int64  \n",
      " 6   PhoneService      7043 non-null   object \n",
      " 7   MultipleLines     7043 non-null   object \n",
      " 8   InternetService   7043 non-null   object \n",
      " 9   OnlineSecurity    7043 non-null   object \n",
      " 10  OnlineBackup      7043 non-null   object \n",
      " 11  DeviceProtection  7043 non-null   object \n",
      " 12  TechSupport       7043 non-null   object \n",
      " 13  StreamingTV       7043 non-null   object \n",
      " 14  StreamingMovies   7043 non-null   object \n",
      " 15  Contract          7043 non-null   object \n",
      " 16  PaperlessBilling  7043 non-null   object \n",
      " 17  PaymentMethod     7043 non-null   object \n",
      " 18  MonthlyCharges    7043 non-null   float64\n",
      " 19  TotalCharges      7043 non-null   object \n",
      " 20  Churn             7043 non-null   object \n",
      "dtypes: float64(1), int64(2), object(18)\n",
      "memory usage: 1.1+ MB\n"
     ]
    }
   ],
   "source": [
    "data.info()"
   ]
  },
  {
   "cell_type": "code",
   "execution_count": 6,
   "id": "768ffdbd",
   "metadata": {},
   "outputs": [],
   "source": [
    "data['TotalCharges']=pd.to_numeric(data['TotalCharges'],errors='coerce')"
   ]
  },
  {
   "cell_type": "code",
   "execution_count": 7,
   "id": "732feaba",
   "metadata": {},
   "outputs": [
    {
     "data": {
      "text/html": [
       "<div>\n",
       "<style scoped>\n",
       "    .dataframe tbody tr th:only-of-type {\n",
       "        vertical-align: middle;\n",
       "    }\n",
       "\n",
       "    .dataframe tbody tr th {\n",
       "        vertical-align: top;\n",
       "    }\n",
       "\n",
       "    .dataframe thead th {\n",
       "        text-align: right;\n",
       "    }\n",
       "</style>\n",
       "<table border=\"1\" class=\"dataframe\">\n",
       "  <thead>\n",
       "    <tr style=\"text-align: right;\">\n",
       "      <th></th>\n",
       "      <th>customerID</th>\n",
       "      <th>gender</th>\n",
       "      <th>SeniorCitizen</th>\n",
       "      <th>Partner</th>\n",
       "      <th>Dependents</th>\n",
       "      <th>tenure</th>\n",
       "      <th>PhoneService</th>\n",
       "      <th>MultipleLines</th>\n",
       "      <th>InternetService</th>\n",
       "      <th>OnlineSecurity</th>\n",
       "      <th>...</th>\n",
       "      <th>DeviceProtection</th>\n",
       "      <th>TechSupport</th>\n",
       "      <th>StreamingTV</th>\n",
       "      <th>StreamingMovies</th>\n",
       "      <th>Contract</th>\n",
       "      <th>PaperlessBilling</th>\n",
       "      <th>PaymentMethod</th>\n",
       "      <th>MonthlyCharges</th>\n",
       "      <th>TotalCharges</th>\n",
       "      <th>Churn</th>\n",
       "    </tr>\n",
       "  </thead>\n",
       "  <tbody>\n",
       "    <tr>\n",
       "      <th>0</th>\n",
       "      <td>7590-VHVEG</td>\n",
       "      <td>Female</td>\n",
       "      <td>0</td>\n",
       "      <td>Yes</td>\n",
       "      <td>No</td>\n",
       "      <td>1</td>\n",
       "      <td>No</td>\n",
       "      <td>No phone service</td>\n",
       "      <td>DSL</td>\n",
       "      <td>No</td>\n",
       "      <td>...</td>\n",
       "      <td>No</td>\n",
       "      <td>No</td>\n",
       "      <td>No</td>\n",
       "      <td>No</td>\n",
       "      <td>Month-to-month</td>\n",
       "      <td>Yes</td>\n",
       "      <td>Electronic check</td>\n",
       "      <td>29.85</td>\n",
       "      <td>29.85</td>\n",
       "      <td>No</td>\n",
       "    </tr>\n",
       "    <tr>\n",
       "      <th>1</th>\n",
       "      <td>5575-GNVDE</td>\n",
       "      <td>Male</td>\n",
       "      <td>0</td>\n",
       "      <td>No</td>\n",
       "      <td>No</td>\n",
       "      <td>34</td>\n",
       "      <td>Yes</td>\n",
       "      <td>No</td>\n",
       "      <td>DSL</td>\n",
       "      <td>Yes</td>\n",
       "      <td>...</td>\n",
       "      <td>Yes</td>\n",
       "      <td>No</td>\n",
       "      <td>No</td>\n",
       "      <td>No</td>\n",
       "      <td>One year</td>\n",
       "      <td>No</td>\n",
       "      <td>Mailed check</td>\n",
       "      <td>56.95</td>\n",
       "      <td>1889.50</td>\n",
       "      <td>No</td>\n",
       "    </tr>\n",
       "    <tr>\n",
       "      <th>2</th>\n",
       "      <td>3668-QPYBK</td>\n",
       "      <td>Male</td>\n",
       "      <td>0</td>\n",
       "      <td>No</td>\n",
       "      <td>No</td>\n",
       "      <td>2</td>\n",
       "      <td>Yes</td>\n",
       "      <td>No</td>\n",
       "      <td>DSL</td>\n",
       "      <td>Yes</td>\n",
       "      <td>...</td>\n",
       "      <td>No</td>\n",
       "      <td>No</td>\n",
       "      <td>No</td>\n",
       "      <td>No</td>\n",
       "      <td>Month-to-month</td>\n",
       "      <td>Yes</td>\n",
       "      <td>Mailed check</td>\n",
       "      <td>53.85</td>\n",
       "      <td>108.15</td>\n",
       "      <td>Yes</td>\n",
       "    </tr>\n",
       "    <tr>\n",
       "      <th>3</th>\n",
       "      <td>7795-CFOCW</td>\n",
       "      <td>Male</td>\n",
       "      <td>0</td>\n",
       "      <td>No</td>\n",
       "      <td>No</td>\n",
       "      <td>45</td>\n",
       "      <td>No</td>\n",
       "      <td>No phone service</td>\n",
       "      <td>DSL</td>\n",
       "      <td>Yes</td>\n",
       "      <td>...</td>\n",
       "      <td>Yes</td>\n",
       "      <td>Yes</td>\n",
       "      <td>No</td>\n",
       "      <td>No</td>\n",
       "      <td>One year</td>\n",
       "      <td>No</td>\n",
       "      <td>Bank transfer (automatic)</td>\n",
       "      <td>42.30</td>\n",
       "      <td>1840.75</td>\n",
       "      <td>No</td>\n",
       "    </tr>\n",
       "    <tr>\n",
       "      <th>4</th>\n",
       "      <td>9237-HQITU</td>\n",
       "      <td>Female</td>\n",
       "      <td>0</td>\n",
       "      <td>No</td>\n",
       "      <td>No</td>\n",
       "      <td>2</td>\n",
       "      <td>Yes</td>\n",
       "      <td>No</td>\n",
       "      <td>Fiber optic</td>\n",
       "      <td>No</td>\n",
       "      <td>...</td>\n",
       "      <td>No</td>\n",
       "      <td>No</td>\n",
       "      <td>No</td>\n",
       "      <td>No</td>\n",
       "      <td>Month-to-month</td>\n",
       "      <td>Yes</td>\n",
       "      <td>Electronic check</td>\n",
       "      <td>70.70</td>\n",
       "      <td>151.65</td>\n",
       "      <td>Yes</td>\n",
       "    </tr>\n",
       "  </tbody>\n",
       "</table>\n",
       "<p>5 rows × 21 columns</p>\n",
       "</div>"
      ],
      "text/plain": [
       "   customerID  gender  SeniorCitizen Partner Dependents  tenure PhoneService  \\\n",
       "0  7590-VHVEG  Female              0     Yes         No       1           No   \n",
       "1  5575-GNVDE    Male              0      No         No      34          Yes   \n",
       "2  3668-QPYBK    Male              0      No         No       2          Yes   \n",
       "3  7795-CFOCW    Male              0      No         No      45           No   \n",
       "4  9237-HQITU  Female              0      No         No       2          Yes   \n",
       "\n",
       "      MultipleLines InternetService OnlineSecurity  ... DeviceProtection  \\\n",
       "0  No phone service             DSL             No  ...               No   \n",
       "1                No             DSL            Yes  ...              Yes   \n",
       "2                No             DSL            Yes  ...               No   \n",
       "3  No phone service             DSL            Yes  ...              Yes   \n",
       "4                No     Fiber optic             No  ...               No   \n",
       "\n",
       "  TechSupport StreamingTV StreamingMovies        Contract PaperlessBilling  \\\n",
       "0          No          No              No  Month-to-month              Yes   \n",
       "1          No          No              No        One year               No   \n",
       "2          No          No              No  Month-to-month              Yes   \n",
       "3         Yes          No              No        One year               No   \n",
       "4          No          No              No  Month-to-month              Yes   \n",
       "\n",
       "               PaymentMethod MonthlyCharges  TotalCharges  Churn  \n",
       "0           Electronic check          29.85         29.85     No  \n",
       "1               Mailed check          56.95       1889.50     No  \n",
       "2               Mailed check          53.85        108.15    Yes  \n",
       "3  Bank transfer (automatic)          42.30       1840.75     No  \n",
       "4           Electronic check          70.70        151.65    Yes  \n",
       "\n",
       "[5 rows x 21 columns]"
      ]
     },
     "execution_count": 7,
     "metadata": {},
     "output_type": "execute_result"
    }
   ],
   "source": [
    "data.head()"
   ]
  },
  {
   "cell_type": "code",
   "execution_count": 8,
   "id": "1c378c43",
   "metadata": {},
   "outputs": [
    {
     "data": {
      "text/html": [
       "<div>\n",
       "<style scoped>\n",
       "    .dataframe tbody tr th:only-of-type {\n",
       "        vertical-align: middle;\n",
       "    }\n",
       "\n",
       "    .dataframe tbody tr th {\n",
       "        vertical-align: top;\n",
       "    }\n",
       "\n",
       "    .dataframe thead th {\n",
       "        text-align: right;\n",
       "    }\n",
       "</style>\n",
       "<table border=\"1\" class=\"dataframe\">\n",
       "  <thead>\n",
       "    <tr style=\"text-align: right;\">\n",
       "      <th></th>\n",
       "      <th>SeniorCitizen</th>\n",
       "      <th>tenure</th>\n",
       "      <th>MonthlyCharges</th>\n",
       "      <th>TotalCharges</th>\n",
       "    </tr>\n",
       "  </thead>\n",
       "  <tbody>\n",
       "    <tr>\n",
       "      <th>count</th>\n",
       "      <td>7043.000000</td>\n",
       "      <td>7043.000000</td>\n",
       "      <td>7043.000000</td>\n",
       "      <td>7032.000000</td>\n",
       "    </tr>\n",
       "    <tr>\n",
       "      <th>mean</th>\n",
       "      <td>0.162147</td>\n",
       "      <td>32.371149</td>\n",
       "      <td>64.761692</td>\n",
       "      <td>2283.300441</td>\n",
       "    </tr>\n",
       "    <tr>\n",
       "      <th>std</th>\n",
       "      <td>0.368612</td>\n",
       "      <td>24.559481</td>\n",
       "      <td>30.090047</td>\n",
       "      <td>2266.771362</td>\n",
       "    </tr>\n",
       "    <tr>\n",
       "      <th>min</th>\n",
       "      <td>0.000000</td>\n",
       "      <td>0.000000</td>\n",
       "      <td>18.250000</td>\n",
       "      <td>18.800000</td>\n",
       "    </tr>\n",
       "    <tr>\n",
       "      <th>25%</th>\n",
       "      <td>0.000000</td>\n",
       "      <td>9.000000</td>\n",
       "      <td>35.500000</td>\n",
       "      <td>401.450000</td>\n",
       "    </tr>\n",
       "    <tr>\n",
       "      <th>50%</th>\n",
       "      <td>0.000000</td>\n",
       "      <td>29.000000</td>\n",
       "      <td>70.350000</td>\n",
       "      <td>1397.475000</td>\n",
       "    </tr>\n",
       "    <tr>\n",
       "      <th>75%</th>\n",
       "      <td>0.000000</td>\n",
       "      <td>55.000000</td>\n",
       "      <td>89.850000</td>\n",
       "      <td>3794.737500</td>\n",
       "    </tr>\n",
       "    <tr>\n",
       "      <th>max</th>\n",
       "      <td>1.000000</td>\n",
       "      <td>72.000000</td>\n",
       "      <td>118.750000</td>\n",
       "      <td>8684.800000</td>\n",
       "    </tr>\n",
       "  </tbody>\n",
       "</table>\n",
       "</div>"
      ],
      "text/plain": [
       "       SeniorCitizen       tenure  MonthlyCharges  TotalCharges\n",
       "count    7043.000000  7043.000000     7043.000000   7032.000000\n",
       "mean        0.162147    32.371149       64.761692   2283.300441\n",
       "std         0.368612    24.559481       30.090047   2266.771362\n",
       "min         0.000000     0.000000       18.250000     18.800000\n",
       "25%         0.000000     9.000000       35.500000    401.450000\n",
       "50%         0.000000    29.000000       70.350000   1397.475000\n",
       "75%         0.000000    55.000000       89.850000   3794.737500\n",
       "max         1.000000    72.000000      118.750000   8684.800000"
      ]
     },
     "execution_count": 8,
     "metadata": {},
     "output_type": "execute_result"
    }
   ],
   "source": [
    "data.describe()"
   ]
  },
  {
   "cell_type": "code",
   "execution_count": 9,
   "id": "5275f963",
   "metadata": {},
   "outputs": [
    {
     "data": {
      "text/plain": [
       "customerID          False\n",
       "gender              False\n",
       "SeniorCitizen       False\n",
       "Partner             False\n",
       "Dependents          False\n",
       "tenure              False\n",
       "PhoneService        False\n",
       "MultipleLines       False\n",
       "InternetService     False\n",
       "OnlineSecurity      False\n",
       "OnlineBackup        False\n",
       "DeviceProtection    False\n",
       "TechSupport         False\n",
       "StreamingTV         False\n",
       "StreamingMovies     False\n",
       "Contract            False\n",
       "PaperlessBilling    False\n",
       "PaymentMethod       False\n",
       "MonthlyCharges      False\n",
       "TotalCharges         True\n",
       "Churn               False\n",
       "dtype: bool"
      ]
     },
     "execution_count": 9,
     "metadata": {},
     "output_type": "execute_result"
    }
   ],
   "source": [
    "data.isnull().any()"
   ]
  },
  {
   "cell_type": "code",
   "execution_count": 10,
   "id": "b55056c5",
   "metadata": {},
   "outputs": [],
   "source": [
    "data['TotalCharges'].fillna(data['TotalCharges'].median(),inplace=True)"
   ]
  },
  {
   "cell_type": "code",
   "execution_count": 11,
   "id": "2156e037",
   "metadata": {},
   "outputs": [
    {
     "data": {
      "text/plain": [
       "<AxesSubplot:>"
      ]
     },
     "execution_count": 11,
     "metadata": {},
     "output_type": "execute_result"
    },
    {
     "data": {
      "image/png": "[encoded data removed]",
      "text/plain": [
       "<Figure size 640x480 with 2 Axes>"
      ]
     },
     "metadata": {},
     "output_type": "display_data"
    }
   ],
   "source": [
    "sns.heatmap(data.corr(),annot=True)"
   ]
  },
  {
   "cell_type": "code",
   "execution_count": 12,
   "id": "49778478",
   "metadata": {},
   "outputs": [
    {
     "data": {
      "text/plain": [
       "customerID          False\n",
       "gender              False\n",
       "SeniorCitizen       False\n",
       "Partner             False\n",
       "Dependents          False\n",
       "tenure              False\n",
       "PhoneService        False\n",
       "MultipleLines       False\n",
       "InternetService     False\n",
       "OnlineSecurity      False\n",
       "OnlineBackup        False\n",
       "DeviceProtection    False\n",
       "TechSupport         False\n",
       "StreamingTV         False\n",
       "StreamingMovies     False\n",
       "Contract            False\n",
       "PaperlessBilling    False\n",
       "PaymentMethod       False\n",
       "MonthlyCharges      False\n",
       "TotalCharges        False\n",
       "Churn               False\n",
       "dtype: bool"
      ]
     },
     "execution_count": 12,
     "metadata": {},
     "output_type": "execute_result"
    }
   ],
   "source": [
    "data.isnull().any()"
   ]
  },
  {
   "cell_type": "code",
   "execution_count": 13,
   "id": "0439744f",
   "metadata": {},
   "outputs": [
    {
     "data": {
      "text/plain": [
       "<seaborn.axisgrid.PairGrid at 0x17be8c4c550>"
      ]
     },
     "execution_count": 13,
     "metadata": {},
     "output_type": "execute_result"
    },
    {
     "data": {
      "image/png": "[encoded data removed]",
      "text/plain": [
       "<Figure size 1000x1000 with 20 Axes>"
      ]
     },
     "metadata": {},
     "output_type": "display_data"
    }
   ],
   "source": [
    "sns.pairplot(data=data,markers=[\"^\",\"v\"],palette=\"inferno\")\n"
   ]
  },
  {
   "cell_type": "code",
   "execution_count": 14,
   "id": "65235b9f",
   "metadata": {},
   "outputs": [
    {
     "data": {
      "text/html": [
       "<div>\n",
       "<style scoped>\n",
       "    .dataframe tbody tr th:only-of-type {\n",
       "        vertical-align: middle;\n",
       "    }\n",
       "\n",
       "    .dataframe tbody tr th {\n",
       "        vertical-align: top;\n",
       "    }\n",
       "\n",
       "    .dataframe thead th {\n",
       "        text-align: right;\n",
       "    }\n",
       "</style>\n",
       "<table border=\"1\" class=\"dataframe\">\n",
       "  <thead>\n",
       "    <tr style=\"text-align: right;\">\n",
       "      <th></th>\n",
       "      <th>SeniorCitizen</th>\n",
       "      <th>tenure</th>\n",
       "      <th>MonthlyCharges</th>\n",
       "      <th>TotalCharges</th>\n",
       "    </tr>\n",
       "  </thead>\n",
       "  <tbody>\n",
       "    <tr>\n",
       "      <th>SeniorCitizen</th>\n",
       "      <td>1.000000</td>\n",
       "      <td>0.016567</td>\n",
       "      <td>0.220173</td>\n",
       "      <td>0.102652</td>\n",
       "    </tr>\n",
       "    <tr>\n",
       "      <th>tenure</th>\n",
       "      <td>0.016567</td>\n",
       "      <td>1.000000</td>\n",
       "      <td>0.247900</td>\n",
       "      <td>0.825464</td>\n",
       "    </tr>\n",
       "    <tr>\n",
       "      <th>MonthlyCharges</th>\n",
       "      <td>0.220173</td>\n",
       "      <td>0.247900</td>\n",
       "      <td>1.000000</td>\n",
       "      <td>0.650864</td>\n",
       "    </tr>\n",
       "    <tr>\n",
       "      <th>TotalCharges</th>\n",
       "      <td>0.102652</td>\n",
       "      <td>0.825464</td>\n",
       "      <td>0.650864</td>\n",
       "      <td>1.000000</td>\n",
       "    </tr>\n",
       "  </tbody>\n",
       "</table>\n",
       "</div>"
      ],
      "text/plain": [
       "                SeniorCitizen    tenure  MonthlyCharges  TotalCharges\n",
       "SeniorCitizen        1.000000  0.016567        0.220173      0.102652\n",
       "tenure               0.016567  1.000000        0.247900      0.825464\n",
       "MonthlyCharges       0.220173  0.247900        1.000000      0.650864\n",
       "TotalCharges         0.102652  0.825464        0.650864      1.000000"
      ]
     },
     "execution_count": 14,
     "metadata": {},
     "output_type": "execute_result"
    }
   ],
   "source": [
    "data.corr()"
   ]
  },
  {
   "cell_type": "code",
   "execution_count": 15,
   "id": "f21e60d5",
   "metadata": {},
   "outputs": [
    {
     "data": {
      "text/plain": [
       "(7043, 21)"
      ]
     },
     "execution_count": 15,
     "metadata": {},
     "output_type": "execute_result"
    }
   ],
   "source": [
    "data.shape"
   ]
  },
  {
   "cell_type": "code",
   "execution_count": 16,
   "id": "57d4e946",
   "metadata": {},
   "outputs": [
    {
     "data": {
      "text/plain": [
       "array(['Female', 'Male'], dtype=object)"
      ]
     },
     "execution_count": 16,
     "metadata": {},
     "output_type": "execute_result"
    }
   ],
   "source": [
    "data['gender'].unique()"
   ]
  },
  {
   "cell_type": "code",
   "execution_count": 17,
   "id": "00e3228f",
   "metadata": {},
   "outputs": [
    {
     "data": {
      "text/plain": [
       "array(['Yes', 'No'], dtype=object)"
      ]
     },
     "execution_count": 17,
     "metadata": {},
     "output_type": "execute_result"
    }
   ],
   "source": [
    "data['Partner'].unique()"
   ]
  },
  {
   "cell_type": "code",
   "execution_count": 18,
   "id": "c3a5a50b",
   "metadata": {},
   "outputs": [
    {
     "data": {
      "text/plain": [
       "array(['No', 'Yes'], dtype=object)"
      ]
     },
     "execution_count": 18,
     "metadata": {},
     "output_type": "execute_result"
    }
   ],
   "source": [
    "data['Dependents'].unique()"
   ]
  },
  {
   "cell_type": "code",
   "execution_count": 19,
   "id": "13222c73",
   "metadata": {},
   "outputs": [
    {
     "data": {
      "text/plain": [
       "array(['No', 'Yes'], dtype=object)"
      ]
     },
     "execution_count": 19,
     "metadata": {},
     "output_type": "execute_result"
    }
   ],
   "source": [
    "data['PhoneService'].unique()"
   ]
  },
  {
   "cell_type": "code",
   "execution_count": 20,
   "id": "6a22c92f",
   "metadata": {},
   "outputs": [
    {
     "data": {
      "text/plain": [
       "array(['No phone service', 'No', 'Yes'], dtype=object)"
      ]
     },
     "execution_count": 20,
     "metadata": {},
     "output_type": "execute_result"
    }
   ],
   "source": [
    "data['MultipleLines'].unique()"
   ]
  },
  {
   "cell_type": "code",
   "execution_count": 21,
   "id": "2b9131ad",
   "metadata": {},
   "outputs": [
    {
     "data": {
      "text/plain": [
       "array(['DSL', 'Fiber optic', 'No'], dtype=object)"
      ]
     },
     "execution_count": 21,
     "metadata": {},
     "output_type": "execute_result"
    }
   ],
   "source": [
    "\n",
    "data['InternetService'].unique()"
   ]
  },
  {
   "cell_type": "code",
   "execution_count": 22,
   "id": "8301d950",
   "metadata": {},
   "outputs": [
    {
     "data": {
      "text/plain": [
       "array(['No', 'Yes', 'No internet service'], dtype=object)"
      ]
     },
     "execution_count": 22,
     "metadata": {},
     "output_type": "execute_result"
    }
   ],
   "source": [
    "data['OnlineSecurity'].unique()"
   ]
  },
  {
   "cell_type": "code",
   "execution_count": 23,
   "id": "73c41e03",
   "metadata": {},
   "outputs": [
    {
     "data": {
      "text/plain": [
       "array(['Yes', 'No', 'No internet service'], dtype=object)"
      ]
     },
     "execution_count": 23,
     "metadata": {},
     "output_type": "execute_result"
    }
   ],
   "source": [
    "data['OnlineBackup'].unique()"
   ]
  },
  {
   "cell_type": "code",
   "execution_count": 24,
   "id": "9ac750e8",
   "metadata": {},
   "outputs": [
    {
     "data": {
      "text/plain": [
       "array(['No', 'Yes', 'No internet service'], dtype=object)"
      ]
     },
     "execution_count": 24,
     "metadata": {},
     "output_type": "execute_result"
    }
   ],
   "source": [
    "data['DeviceProtection'].unique()"
   ]
  },
  {
   "cell_type": "code",
   "execution_count": 25,
   "id": "3132a408",
   "metadata": {},
   "outputs": [
    {
     "data": {
      "text/plain": [
       "array(['No', 'Yes', 'No internet service'], dtype=object)"
      ]
     },
     "execution_count": 25,
     "metadata": {},
     "output_type": "execute_result"
    }
   ],
   "source": [
    "data['TechSupport'].unique()"
   ]
  },
  {
   "cell_type": "code",
   "execution_count": 26,
   "id": "c26910f3",
   "metadata": {},
   "outputs": [
    {
     "data": {
      "text/plain": [
       "array(['No', 'Yes', 'No internet service'], dtype=object)"
      ]
     },
     "execution_count": 26,
     "metadata": {},
     "output_type": "execute_result"
    }
   ],
   "source": [
    "data['StreamingTV'].unique()"
   ]
  },
  {
   "cell_type": "code",
   "execution_count": 27,
   "id": "fdd5ce46",
   "metadata": {},
   "outputs": [
    {
     "data": {
      "text/plain": [
       "array(['No', 'Yes', 'No internet service'], dtype=object)"
      ]
     },
     "execution_count": 27,
     "metadata": {},
     "output_type": "execute_result"
    }
   ],
   "source": [
    "data['StreamingMovies'].unique()"
   ]
  },
  {
   "cell_type": "code",
   "execution_count": 28,
   "id": "15ada071",
   "metadata": {},
   "outputs": [
    {
     "data": {
      "text/plain": [
       "array(['Month-to-month', 'One year', 'Two year'], dtype=object)"
      ]
     },
     "execution_count": 28,
     "metadata": {},
     "output_type": "execute_result"
    }
   ],
   "source": [
    "data['Contract'].unique()"
   ]
  },
  {
   "cell_type": "code",
   "execution_count": 29,
   "id": "205fcaee",
   "metadata": {},
   "outputs": [
    {
     "data": {
      "text/plain": [
       "array(['Yes', 'No'], dtype=object)"
      ]
     },
     "execution_count": 29,
     "metadata": {},
     "output_type": "execute_result"
    }
   ],
   "source": [
    "data['PaperlessBilling'].unique()"
   ]
  },
  {
   "cell_type": "code",
   "execution_count": 30,
   "id": "e5d3dd95",
   "metadata": {},
   "outputs": [
    {
     "data": {
      "text/plain": [
       "array(['Electronic check', 'Mailed check', 'Bank transfer (automatic)',\n",
       "       'Credit card (automatic)'], dtype=object)"
      ]
     },
     "execution_count": 30,
     "metadata": {},
     "output_type": "execute_result"
    }
   ],
   "source": [
    "data['PaymentMethod'].unique()"
   ]
  },
  {
   "cell_type": "code",
   "execution_count": 31,
   "id": "06a4456b",
   "metadata": {},
   "outputs": [
    {
     "data": {
      "text/plain": [
       "array([29.85, 56.95, 53.85, ..., 63.1 , 44.2 , 78.7 ])"
      ]
     },
     "execution_count": 31,
     "metadata": {},
     "output_type": "execute_result"
    }
   ],
   "source": [
    "data['MonthlyCharges'].unique()"
   ]
  },
  {
   "cell_type": "code",
   "execution_count": 32,
   "id": "83c16c4b",
   "metadata": {},
   "outputs": [
    {
     "data": {
      "text/plain": [
       "array(['No', 'Yes'], dtype=object)"
      ]
     },
     "execution_count": 32,
     "metadata": {},
     "output_type": "execute_result"
    }
   ],
   "source": [
    "\n",
    "\n",
    "\n",
    "\n",
    "\n",
    "data['Churn'].unique()"
   ]
  },
  {
   "cell_type": "code",
   "execution_count": 33,
   "id": "e4c9ae05",
   "metadata": {},
   "outputs": [],
   "source": [
    "from sklearn.preprocessing import LabelEncoder\n",
    "le=LabelEncoder()"
   ]
  },
  {
   "cell_type": "code",
   "execution_count": 34,
   "id": "384557b3",
   "metadata": {},
   "outputs": [],
   "source": [
    "\n",
    "\n",
    "data['gender']=le.fit_transform(data['gender'])\n",
    "data['Partner']=le.fit_transform(data['Partner'])"
   ]
  },
  {
   "cell_type": "code",
   "execution_count": 35,
   "id": "ba49fe8c",
   "metadata": {},
   "outputs": [],
   "source": [
    "data['Dependents']=le.fit_transform(data['Dependents'])\n",
    "data['MultipleLines']=le.fit_transform(data['MultipleLines'])\n",
    "data['PhoneService']=le.fit_transform(data['PhoneService'])\n",
    "data['InternetService']=le.fit_transform(data['InternetService'])\n",
    "data['OnlineSecurity']=le.fit_transform(data['OnlineSecurity'])\n",
    "data['OnlineBackup']=le.fit_transform(data['OnlineBackup'])\n",
    "data['DeviceProtection']=le.fit_transform(data['DeviceProtection'])\n",
    "data['TechSupport']=le.fit_transform(data['TechSupport'])\n",
    "data['StreamingTV']=le.fit_transform(data['StreamingTV'])\n",
    "data['StreamingMovies']=le.fit_transform(data['StreamingMovies'])\n",
    "data['Contract']=le.fit_transform(data['Contract'])\n",
    "data['PaperlessBilling']=le.fit_transform(data['PaperlessBilling'])\n",
    "data['PaymentMethod']=le.fit_transform(data['PaymentMethod'])\n",
    "data['Churn']=le.fit_transform(data['Churn'])"
   ]
  },
  {
   "cell_type": "code",
   "execution_count": 36,
   "id": "8c666d01",
   "metadata": {},
   "outputs": [
    {
     "data": {
      "text/html": [
       "<div>\n",
       "<style scoped>\n",
       "    .dataframe tbody tr th:only-of-type {\n",
       "        vertical-align: middle;\n",
       "    }\n",
       "\n",
       "    .dataframe tbody tr th {\n",
       "        vertical-align: top;\n",
       "    }\n",
       "\n",
       "    .dataframe thead th {\n",
       "        text-align: right;\n",
       "    }\n",
       "</style>\n",
       "<table border=\"1\" class=\"dataframe\">\n",
       "  <thead>\n",
       "    <tr style=\"text-align: right;\">\n",
       "      <th></th>\n",
       "      <th>customerID</th>\n",
       "      <th>gender</th>\n",
       "      <th>SeniorCitizen</th>\n",
       "      <th>Partner</th>\n",
       "      <th>Dependents</th>\n",
       "      <th>tenure</th>\n",
       "      <th>PhoneService</th>\n",
       "      <th>MultipleLines</th>\n",
       "      <th>InternetService</th>\n",
       "      <th>OnlineSecurity</th>\n",
       "      <th>...</th>\n",
       "      <th>DeviceProtection</th>\n",
       "      <th>TechSupport</th>\n",
       "      <th>StreamingTV</th>\n",
       "      <th>StreamingMovies</th>\n",
       "      <th>Contract</th>\n",
       "      <th>PaperlessBilling</th>\n",
       "      <th>PaymentMethod</th>\n",
       "      <th>MonthlyCharges</th>\n",
       "      <th>TotalCharges</th>\n",
       "      <th>Churn</th>\n",
       "    </tr>\n",
       "  </thead>\n",
       "  <tbody>\n",
       "    <tr>\n",
       "      <th>0</th>\n",
       "      <td>7590-VHVEG</td>\n",
       "      <td>0</td>\n",
       "      <td>0</td>\n",
       "      <td>1</td>\n",
       "      <td>0</td>\n",
       "      <td>1</td>\n",
       "      <td>0</td>\n",
       "      <td>1</td>\n",
       "      <td>0</td>\n",
       "      <td>0</td>\n",
       "      <td>...</td>\n",
       "      <td>0</td>\n",
       "      <td>0</td>\n",
       "      <td>0</td>\n",
       "      <td>0</td>\n",
       "      <td>0</td>\n",
       "      <td>1</td>\n",
       "      <td>2</td>\n",
       "      <td>29.85</td>\n",
       "      <td>29.85</td>\n",
       "      <td>0</td>\n",
       "    </tr>\n",
       "    <tr>\n",
       "      <th>1</th>\n",
       "      <td>5575-GNVDE</td>\n",
       "      <td>1</td>\n",
       "      <td>0</td>\n",
       "      <td>0</td>\n",
       "      <td>0</td>\n",
       "      <td>34</td>\n",
       "      <td>1</td>\n",
       "      <td>0</td>\n",
       "      <td>0</td>\n",
       "      <td>2</td>\n",
       "      <td>...</td>\n",
       "      <td>2</td>\n",
       "      <td>0</td>\n",
       "      <td>0</td>\n",
       "      <td>0</td>\n",
       "      <td>1</td>\n",
       "      <td>0</td>\n",
       "      <td>3</td>\n",
       "      <td>56.95</td>\n",
       "      <td>1889.50</td>\n",
       "      <td>0</td>\n",
       "    </tr>\n",
       "    <tr>\n",
       "      <th>2</th>\n",
       "      <td>3668-QPYBK</td>\n",
       "      <td>1</td>\n",
       "      <td>0</td>\n",
       "      <td>0</td>\n",
       "      <td>0</td>\n",
       "      <td>2</td>\n",
       "      <td>1</td>\n",
       "      <td>0</td>\n",
       "      <td>0</td>\n",
       "      <td>2</td>\n",
       "      <td>...</td>\n",
       "      <td>0</td>\n",
       "      <td>0</td>\n",
       "      <td>0</td>\n",
       "      <td>0</td>\n",
       "      <td>0</td>\n",
       "      <td>1</td>\n",
       "      <td>3</td>\n",
       "      <td>53.85</td>\n",
       "      <td>108.15</td>\n",
       "      <td>1</td>\n",
       "    </tr>\n",
       "    <tr>\n",
       "      <th>3</th>\n",
       "      <td>7795-CFOCW</td>\n",
       "      <td>1</td>\n",
       "      <td>0</td>\n",
       "      <td>0</td>\n",
       "      <td>0</td>\n",
       "      <td>45</td>\n",
       "      <td>0</td>\n",
       "      <td>1</td>\n",
       "      <td>0</td>\n",
       "      <td>2</td>\n",
       "      <td>...</td>\n",
       "      <td>2</td>\n",
       "      <td>2</td>\n",
       "      <td>0</td>\n",
       "      <td>0</td>\n",
       "      <td>1</td>\n",
       "      <td>0</td>\n",
       "      <td>0</td>\n",
       "      <td>42.30</td>\n",
       "      <td>1840.75</td>\n",
       "      <td>0</td>\n",
       "    </tr>\n",
       "    <tr>\n",
       "      <th>4</th>\n",
       "      <td>9237-HQITU</td>\n",
       "      <td>0</td>\n",
       "      <td>0</td>\n",
       "      <td>0</td>\n",
       "      <td>0</td>\n",
       "      <td>2</td>\n",
       "      <td>1</td>\n",
       "      <td>0</td>\n",
       "      <td>1</td>\n",
       "      <td>0</td>\n",
       "      <td>...</td>\n",
       "      <td>0</td>\n",
       "      <td>0</td>\n",
       "      <td>0</td>\n",
       "      <td>0</td>\n",
       "      <td>0</td>\n",
       "      <td>1</td>\n",
       "      <td>2</td>\n",
       "      <td>70.70</td>\n",
       "      <td>151.65</td>\n",
       "      <td>1</td>\n",
       "    </tr>\n",
       "    <tr>\n",
       "      <th>...</th>\n",
       "      <td>...</td>\n",
       "      <td>...</td>\n",
       "      <td>...</td>\n",
       "      <td>...</td>\n",
       "      <td>...</td>\n",
       "      <td>...</td>\n",
       "      <td>...</td>\n",
       "      <td>...</td>\n",
       "      <td>...</td>\n",
       "      <td>...</td>\n",
       "      <td>...</td>\n",
       "      <td>...</td>\n",
       "      <td>...</td>\n",
       "      <td>...</td>\n",
       "      <td>...</td>\n",
       "      <td>...</td>\n",
       "      <td>...</td>\n",
       "      <td>...</td>\n",
       "      <td>...</td>\n",
       "      <td>...</td>\n",
       "      <td>...</td>\n",
       "    </tr>\n",
       "    <tr>\n",
       "      <th>7038</th>\n",
       "      <td>6840-RESVB</td>\n",
       "      <td>1</td>\n",
       "      <td>0</td>\n",
       "      <td>1</td>\n",
       "      <td>1</td>\n",
       "      <td>24</td>\n",
       "      <td>1</td>\n",
       "      <td>2</td>\n",
       "      <td>0</td>\n",
       "      <td>2</td>\n",
       "      <td>...</td>\n",
       "      <td>2</td>\n",
       "      <td>2</td>\n",
       "      <td>2</td>\n",
       "      <td>2</td>\n",
       "      <td>1</td>\n",
       "      <td>1</td>\n",
       "      <td>3</td>\n",
       "      <td>84.80</td>\n",
       "      <td>1990.50</td>\n",
       "      <td>0</td>\n",
       "    </tr>\n",
       "    <tr>\n",
       "      <th>7039</th>\n",
       "      <td>2234-XADUH</td>\n",
       "      <td>0</td>\n",
       "      <td>0</td>\n",
       "      <td>1</td>\n",
       "      <td>1</td>\n",
       "      <td>72</td>\n",
       "      <td>1</td>\n",
       "      <td>2</td>\n",
       "      <td>1</td>\n",
       "      <td>0</td>\n",
       "      <td>...</td>\n",
       "      <td>2</td>\n",
       "      <td>0</td>\n",
       "      <td>2</td>\n",
       "      <td>2</td>\n",
       "      <td>1</td>\n",
       "      <td>1</td>\n",
       "      <td>1</td>\n",
       "      <td>103.20</td>\n",
       "      <td>7362.90</td>\n",
       "      <td>0</td>\n",
       "    </tr>\n",
       "    <tr>\n",
       "      <th>7040</th>\n",
       "      <td>4801-JZAZL</td>\n",
       "      <td>0</td>\n",
       "      <td>0</td>\n",
       "      <td>1</td>\n",
       "      <td>1</td>\n",
       "      <td>11</td>\n",
       "      <td>0</td>\n",
       "      <td>1</td>\n",
       "      <td>0</td>\n",
       "      <td>2</td>\n",
       "      <td>...</td>\n",
       "      <td>0</td>\n",
       "      <td>0</td>\n",
       "      <td>0</td>\n",
       "      <td>0</td>\n",
       "      <td>0</td>\n",
       "      <td>1</td>\n",
       "      <td>2</td>\n",
       "      <td>29.60</td>\n",
       "      <td>346.45</td>\n",
       "      <td>0</td>\n",
       "    </tr>\n",
       "    <tr>\n",
       "      <th>7041</th>\n",
       "      <td>8361-LTMKD</td>\n",
       "      <td>1</td>\n",
       "      <td>1</td>\n",
       "      <td>1</td>\n",
       "      <td>0</td>\n",
       "      <td>4</td>\n",
       "      <td>1</td>\n",
       "      <td>2</td>\n",
       "      <td>1</td>\n",
       "      <td>0</td>\n",
       "      <td>...</td>\n",
       "      <td>0</td>\n",
       "      <td>0</td>\n",
       "      <td>0</td>\n",
       "      <td>0</td>\n",
       "      <td>0</td>\n",
       "      <td>1</td>\n",
       "      <td>3</td>\n",
       "      <td>74.40</td>\n",
       "      <td>306.60</td>\n",
       "      <td>1</td>\n",
       "    </tr>\n",
       "    <tr>\n",
       "      <th>7042</th>\n",
       "      <td>3186-AJIEK</td>\n",
       "      <td>1</td>\n",
       "      <td>0</td>\n",
       "      <td>0</td>\n",
       "      <td>0</td>\n",
       "      <td>66</td>\n",
       "      <td>1</td>\n",
       "      <td>0</td>\n",
       "      <td>1</td>\n",
       "      <td>2</td>\n",
       "      <td>...</td>\n",
       "      <td>2</td>\n",
       "      <td>2</td>\n",
       "      <td>2</td>\n",
       "      <td>2</td>\n",
       "      <td>2</td>\n",
       "      <td>1</td>\n",
       "      <td>0</td>\n",
       "      <td>105.65</td>\n",
       "      <td>6844.50</td>\n",
       "      <td>0</td>\n",
       "    </tr>\n",
       "  </tbody>\n",
       "</table>\n",
       "<p>7043 rows × 21 columns</p>\n",
       "</div>"
      ],
      "text/plain": [
       "      customerID  gender  SeniorCitizen  Partner  Dependents  tenure  \\\n",
       "0     7590-VHVEG       0              0        1           0       1   \n",
       "1     5575-GNVDE       1              0        0           0      34   \n",
       "2     3668-QPYBK       1              0        0           0       2   \n",
       "3     7795-CFOCW       1              0        0           0      45   \n",
       "4     9237-HQITU       0              0        0           0       2   \n",
       "...          ...     ...            ...      ...         ...     ...   \n",
       "7038  6840-RESVB       1              0        1           1      24   \n",
       "7039  2234-XADUH       0              0        1           1      72   \n",
       "7040  4801-JZAZL       0              0        1           1      11   \n",
       "7041  8361-LTMKD       1              1        1           0       4   \n",
       "7042  3186-AJIEK       1              0        0           0      66   \n",
       "\n",
       "      PhoneService  MultipleLines  InternetService  OnlineSecurity  ...  \\\n",
       "0                0              1                0               0  ...   \n",
       "1                1              0                0               2  ...   \n",
       "2                1              0                0               2  ...   \n",
       "3                0              1                0               2  ...   \n",
       "4                1              0                1               0  ...   \n",
       "...            ...            ...              ...             ...  ...   \n",
       "7038             1              2                0               2  ...   \n",
       "7039             1              2                1               0  ...   \n",
       "7040             0              1                0               2  ...   \n",
       "7041             1              2                1               0  ...   \n",
       "7042             1              0                1               2  ...   \n",
       "\n",
       "      DeviceProtection  TechSupport  StreamingTV  StreamingMovies  Contract  \\\n",
       "0                    0            0            0                0         0   \n",
       "1                    2            0            0                0         1   \n",
       "2                    0            0            0                0         0   \n",
       "3                    2            2            0                0         1   \n",
       "4                    0            0            0                0         0   \n",
       "...                ...          ...          ...              ...       ...   \n",
       "7038                 2            2            2                2         1   \n",
       "7039                 2            0            2                2         1   \n",
       "7040                 0            0            0                0         0   \n",
       "7041                 0            0            0                0         0   \n",
       "7042                 2            2            2                2         2   \n",
       "\n",
       "      PaperlessBilling  PaymentMethod  MonthlyCharges  TotalCharges  Churn  \n",
       "0                    1              2           29.85         29.85      0  \n",
       "1                    0              3           56.95       1889.50      0  \n",
       "2                    1              3           53.85        108.15      1  \n",
       "3                    0              0           42.30       1840.75      0  \n",
       "4                    1              2           70.70        151.65      1  \n",
       "...                ...            ...             ...           ...    ...  \n",
       "7038                 1              3           84.80       1990.50      0  \n",
       "7039                 1              1          103.20       7362.90      0  \n",
       "7040                 1              2           29.60        346.45      0  \n",
       "7041                 1              3           74.40        306.60      1  \n",
       "7042                 1              0          105.65       6844.50      0  \n",
       "\n",
       "[7043 rows x 21 columns]"
      ]
     },
     "execution_count": 36,
     "metadata": {},
     "output_type": "execute_result"
    }
   ],
   "source": [
    "\n",
    "data\n"
   ]
  },
  {
   "cell_type": "code",
   "execution_count": 37,
   "id": "3f9f2606",
   "metadata": {},
   "outputs": [],
   "source": [
    "data.drop(columns='customerID', inplace=True)"
   ]
  },
  {
   "cell_type": "code",
   "execution_count": 38,
   "id": "59b22840",
   "metadata": {},
   "outputs": [],
   "source": [
    "x=data.iloc[:,:19].values\n"
   ]
  },
  {
   "cell_type": "code",
   "execution_count": 39,
   "id": "8369793e",
   "metadata": {},
   "outputs": [
    {
     "data": {
      "text/plain": [
       "0    5174\n",
       "1    1869\n",
       "Name: Churn, dtype: int64"
      ]
     },
     "execution_count": 39,
     "metadata": {},
     "output_type": "execute_result"
    }
   ],
   "source": [
    "data['Churn'].value_counts() "
   ]
  },
  {
   "cell_type": "code",
   "execution_count": 40,
   "id": "52c78fbe",
   "metadata": {},
   "outputs": [
    {
     "data": {
      "text/plain": [
       "(7043, 19)"
      ]
     },
     "execution_count": 40,
     "metadata": {},
     "output_type": "execute_result"
    }
   ],
   "source": [
    "x.shape"
   ]
  },
  {
   "cell_type": "code",
   "execution_count": 41,
   "id": "a28140fb",
   "metadata": {},
   "outputs": [],
   "source": [
    "y=data.iloc[:,19:20].values"
   ]
  },
  {
   "cell_type": "code",
   "execution_count": 42,
   "id": "8e35b425",
   "metadata": {},
   "outputs": [
    {
     "data": {
      "text/plain": [
       "array([[0],\n",
       "       [0],\n",
       "       [1],\n",
       "       ...,\n",
       "       [0],\n",
       "       [1],\n",
       "       [0]])"
      ]
     },
     "execution_count": 42,
     "metadata": {},
     "output_type": "execute_result"
    }
   ],
   "source": [
    "y"
   ]
  },
  {
   "cell_type": "code",
   "execution_count": 43,
   "id": "09987c56",
   "metadata": {},
   "outputs": [],
   "source": [
    "from sklearn.preprocessing import OneHotEncoder\n",
    "one=OneHotEncoder()\n",
    "a= one.fit_transform(x[:,6:7]).toarray()\n",
    "b= one.fit_transform(x[:,7:8]).toarray()\n",
    "c= one.fit_transform(x[:,8:9]).toarray()\n",
    "d= one.fit_transform(x[:,9:10]).toarray()\n",
    "e= one.fit_transform(x[:,10:11]).toarray()\n",
    "f= one.fit_transform(x[:,11:12]).toarray()\n",
    "g= one.fit_transform(x[:,12:13]).toarray()\n",
    "h= one.fit_transform(x[:,13:14]).toarray()\n",
    "i= one.fit_transform(x[:,14:15]).toarray()\n",
    "j= one.fit_transform(x[:,16:17]).toarray()\n",
    "x=np.delete(x,[6,7,8,9,10,11,12,13,14,16], axis=1)\n",
    "x=np.concatenate((a,b,c,d,e,f,g,h,i,j,x), axis=1)"
   ]
  },
  {
   "cell_type": "code",
   "execution_count": 44,
   "id": "38ed8546",
   "metadata": {},
   "outputs": [
    {
     "data": {
      "text/plain": [
       "(7043, 40)"
      ]
     },
     "execution_count": 44,
     "metadata": {},
     "output_type": "execute_result"
    }
   ],
   "source": [
    "x.shape"
   ]
  },
  {
   "cell_type": "code",
   "execution_count": 45,
   "id": "8ed07c8a",
   "metadata": {},
   "outputs": [],
   "source": [
    "from imblearn.over_sampling import SMOTE"
   ]
  },
  {
   "cell_type": "code",
   "execution_count": 46,
   "id": "f1ad5a19",
   "metadata": {},
   "outputs": [],
   "source": [
    "smt = SMOTE()\n",
    "x_resample, y_resample = smt.fit_resample(x,y)"
   ]
  },
  {
   "cell_type": "code",
   "execution_count": 47,
   "id": "c34a6bb1",
   "metadata": {},
   "outputs": [
    {
     "data": {
      "text/plain": [
       "(10348, 40)"
      ]
     },
     "execution_count": 47,
     "metadata": {},
     "output_type": "execute_result"
    }
   ],
   "source": [
    "x_resample.shape"
   ]
  },
  {
   "cell_type": "code",
   "execution_count": 48,
   "id": "d7d97a88",
   "metadata": {},
   "outputs": [
    {
     "data": {
      "text/plain": [
       "array([0, 0, 1, ..., 1, 1, 1])"
      ]
     },
     "execution_count": 48,
     "metadata": {},
     "output_type": "execute_result"
    }
   ],
   "source": [
    "y_resample"
   ]
  },
  {
   "cell_type": "code",
   "execution_count": 49,
   "id": "bc69a993",
   "metadata": {},
   "outputs": [
    {
     "data": {
      "text/html": [
       "<div>\n",
       "<style scoped>\n",
       "    .dataframe tbody tr th:only-of-type {\n",
       "        vertical-align: middle;\n",
       "    }\n",
       "\n",
       "    .dataframe tbody tr th {\n",
       "        vertical-align: top;\n",
       "    }\n",
       "\n",
       "    .dataframe thead th {\n",
       "        text-align: right;\n",
       "    }\n",
       "</style>\n",
       "<table border=\"1\" class=\"dataframe\">\n",
       "  <thead>\n",
       "    <tr style=\"text-align: right;\">\n",
       "      <th></th>\n",
       "      <th>gender</th>\n",
       "      <th>SeniorCitizen</th>\n",
       "      <th>Partner</th>\n",
       "      <th>Dependents</th>\n",
       "      <th>tenure</th>\n",
       "      <th>PhoneService</th>\n",
       "      <th>MultipleLines</th>\n",
       "      <th>InternetService</th>\n",
       "      <th>OnlineSecurity</th>\n",
       "      <th>OnlineBackup</th>\n",
       "      <th>DeviceProtection</th>\n",
       "      <th>TechSupport</th>\n",
       "      <th>StreamingTV</th>\n",
       "      <th>StreamingMovies</th>\n",
       "      <th>Contract</th>\n",
       "      <th>PaperlessBilling</th>\n",
       "      <th>PaymentMethod</th>\n",
       "      <th>MonthlyCharges</th>\n",
       "      <th>TotalCharges</th>\n",
       "      <th>Churn</th>\n",
       "    </tr>\n",
       "  </thead>\n",
       "  <tbody>\n",
       "    <tr>\n",
       "      <th>0</th>\n",
       "      <td>0</td>\n",
       "      <td>0</td>\n",
       "      <td>1</td>\n",
       "      <td>0</td>\n",
       "      <td>1</td>\n",
       "      <td>0</td>\n",
       "      <td>1</td>\n",
       "      <td>0</td>\n",
       "      <td>0</td>\n",
       "      <td>2</td>\n",
       "      <td>0</td>\n",
       "      <td>0</td>\n",
       "      <td>0</td>\n",
       "      <td>0</td>\n",
       "      <td>0</td>\n",
       "      <td>1</td>\n",
       "      <td>2</td>\n",
       "      <td>29.85</td>\n",
       "      <td>29.85</td>\n",
       "      <td>0</td>\n",
       "    </tr>\n",
       "    <tr>\n",
       "      <th>1</th>\n",
       "      <td>1</td>\n",
       "      <td>0</td>\n",
       "      <td>0</td>\n",
       "      <td>0</td>\n",
       "      <td>34</td>\n",
       "      <td>1</td>\n",
       "      <td>0</td>\n",
       "      <td>0</td>\n",
       "      <td>2</td>\n",
       "      <td>0</td>\n",
       "      <td>2</td>\n",
       "      <td>0</td>\n",
       "      <td>0</td>\n",
       "      <td>0</td>\n",
       "      <td>1</td>\n",
       "      <td>0</td>\n",
       "      <td>3</td>\n",
       "      <td>56.95</td>\n",
       "      <td>1889.50</td>\n",
       "      <td>0</td>\n",
       "    </tr>\n",
       "    <tr>\n",
       "      <th>2</th>\n",
       "      <td>1</td>\n",
       "      <td>0</td>\n",
       "      <td>0</td>\n",
       "      <td>0</td>\n",
       "      <td>2</td>\n",
       "      <td>1</td>\n",
       "      <td>0</td>\n",
       "      <td>0</td>\n",
       "      <td>2</td>\n",
       "      <td>2</td>\n",
       "      <td>0</td>\n",
       "      <td>0</td>\n",
       "      <td>0</td>\n",
       "      <td>0</td>\n",
       "      <td>0</td>\n",
       "      <td>1</td>\n",
       "      <td>3</td>\n",
       "      <td>53.85</td>\n",
       "      <td>108.15</td>\n",
       "      <td>1</td>\n",
       "    </tr>\n",
       "    <tr>\n",
       "      <th>3</th>\n",
       "      <td>1</td>\n",
       "      <td>0</td>\n",
       "      <td>0</td>\n",
       "      <td>0</td>\n",
       "      <td>45</td>\n",
       "      <td>0</td>\n",
       "      <td>1</td>\n",
       "      <td>0</td>\n",
       "      <td>2</td>\n",
       "      <td>0</td>\n",
       "      <td>2</td>\n",
       "      <td>2</td>\n",
       "      <td>0</td>\n",
       "      <td>0</td>\n",
       "      <td>1</td>\n",
       "      <td>0</td>\n",
       "      <td>0</td>\n",
       "      <td>42.30</td>\n",
       "      <td>1840.75</td>\n",
       "      <td>0</td>\n",
       "    </tr>\n",
       "    <tr>\n",
       "      <th>4</th>\n",
       "      <td>0</td>\n",
       "      <td>0</td>\n",
       "      <td>0</td>\n",
       "      <td>0</td>\n",
       "      <td>2</td>\n",
       "      <td>1</td>\n",
       "      <td>0</td>\n",
       "      <td>1</td>\n",
       "      <td>0</td>\n",
       "      <td>0</td>\n",
       "      <td>0</td>\n",
       "      <td>0</td>\n",
       "      <td>0</td>\n",
       "      <td>0</td>\n",
       "      <td>0</td>\n",
       "      <td>1</td>\n",
       "      <td>2</td>\n",
       "      <td>70.70</td>\n",
       "      <td>151.65</td>\n",
       "      <td>1</td>\n",
       "    </tr>\n",
       "    <tr>\n",
       "      <th>...</th>\n",
       "      <td>...</td>\n",
       "      <td>...</td>\n",
       "      <td>...</td>\n",
       "      <td>...</td>\n",
       "      <td>...</td>\n",
       "      <td>...</td>\n",
       "      <td>...</td>\n",
       "      <td>...</td>\n",
       "      <td>...</td>\n",
       "      <td>...</td>\n",
       "      <td>...</td>\n",
       "      <td>...</td>\n",
       "      <td>...</td>\n",
       "      <td>...</td>\n",
       "      <td>...</td>\n",
       "      <td>...</td>\n",
       "      <td>...</td>\n",
       "      <td>...</td>\n",
       "      <td>...</td>\n",
       "      <td>...</td>\n",
       "    </tr>\n",
       "    <tr>\n",
       "      <th>7038</th>\n",
       "      <td>1</td>\n",
       "      <td>0</td>\n",
       "      <td>1</td>\n",
       "      <td>1</td>\n",
       "      <td>24</td>\n",
       "      <td>1</td>\n",
       "      <td>2</td>\n",
       "      <td>0</td>\n",
       "      <td>2</td>\n",
       "      <td>0</td>\n",
       "      <td>2</td>\n",
       "      <td>2</td>\n",
       "      <td>2</td>\n",
       "      <td>2</td>\n",
       "      <td>1</td>\n",
       "      <td>1</td>\n",
       "      <td>3</td>\n",
       "      <td>84.80</td>\n",
       "      <td>1990.50</td>\n",
       "      <td>0</td>\n",
       "    </tr>\n",
       "    <tr>\n",
       "      <th>7039</th>\n",
       "      <td>0</td>\n",
       "      <td>0</td>\n",
       "      <td>1</td>\n",
       "      <td>1</td>\n",
       "      <td>72</td>\n",
       "      <td>1</td>\n",
       "      <td>2</td>\n",
       "      <td>1</td>\n",
       "      <td>0</td>\n",
       "      <td>2</td>\n",
       "      <td>2</td>\n",
       "      <td>0</td>\n",
       "      <td>2</td>\n",
       "      <td>2</td>\n",
       "      <td>1</td>\n",
       "      <td>1</td>\n",
       "      <td>1</td>\n",
       "      <td>103.20</td>\n",
       "      <td>7362.90</td>\n",
       "      <td>0</td>\n",
       "    </tr>\n",
       "    <tr>\n",
       "      <th>7040</th>\n",
       "      <td>0</td>\n",
       "      <td>0</td>\n",
       "      <td>1</td>\n",
       "      <td>1</td>\n",
       "      <td>11</td>\n",
       "      <td>0</td>\n",
       "      <td>1</td>\n",
       "      <td>0</td>\n",
       "      <td>2</td>\n",
       "      <td>0</td>\n",
       "      <td>0</td>\n",
       "      <td>0</td>\n",
       "      <td>0</td>\n",
       "      <td>0</td>\n",
       "      <td>0</td>\n",
       "      <td>1</td>\n",
       "      <td>2</td>\n",
       "      <td>29.60</td>\n",
       "      <td>346.45</td>\n",
       "      <td>0</td>\n",
       "    </tr>\n",
       "    <tr>\n",
       "      <th>7041</th>\n",
       "      <td>1</td>\n",
       "      <td>1</td>\n",
       "      <td>1</td>\n",
       "      <td>0</td>\n",
       "      <td>4</td>\n",
       "      <td>1</td>\n",
       "      <td>2</td>\n",
       "      <td>1</td>\n",
       "      <td>0</td>\n",
       "      <td>0</td>\n",
       "      <td>0</td>\n",
       "      <td>0</td>\n",
       "      <td>0</td>\n",
       "      <td>0</td>\n",
       "      <td>0</td>\n",
       "      <td>1</td>\n",
       "      <td>3</td>\n",
       "      <td>74.40</td>\n",
       "      <td>306.60</td>\n",
       "      <td>1</td>\n",
       "    </tr>\n",
       "    <tr>\n",
       "      <th>7042</th>\n",
       "      <td>1</td>\n",
       "      <td>0</td>\n",
       "      <td>0</td>\n",
       "      <td>0</td>\n",
       "      <td>66</td>\n",
       "      <td>1</td>\n",
       "      <td>0</td>\n",
       "      <td>1</td>\n",
       "      <td>2</td>\n",
       "      <td>0</td>\n",
       "      <td>2</td>\n",
       "      <td>2</td>\n",
       "      <td>2</td>\n",
       "      <td>2</td>\n",
       "      <td>2</td>\n",
       "      <td>1</td>\n",
       "      <td>0</td>\n",
       "      <td>105.65</td>\n",
       "      <td>6844.50</td>\n",
       "      <td>0</td>\n",
       "    </tr>\n",
       "  </tbody>\n",
       "</table>\n",
       "<p>7043 rows × 20 columns</p>\n",
       "</div>"
      ],
      "text/plain": [
       "      gender  SeniorCitizen  Partner  Dependents  tenure  PhoneService  \\\n",
       "0          0              0        1           0       1             0   \n",
       "1          1              0        0           0      34             1   \n",
       "2          1              0        0           0       2             1   \n",
       "3          1              0        0           0      45             0   \n",
       "4          0              0        0           0       2             1   \n",
       "...      ...            ...      ...         ...     ...           ...   \n",
       "7038       1              0        1           1      24             1   \n",
       "7039       0              0        1           1      72             1   \n",
       "7040       0              0        1           1      11             0   \n",
       "7041       1              1        1           0       4             1   \n",
       "7042       1              0        0           0      66             1   \n",
       "\n",
       "      MultipleLines  InternetService  OnlineSecurity  OnlineBackup  \\\n",
       "0                 1                0               0             2   \n",
       "1                 0                0               2             0   \n",
       "2                 0                0               2             2   \n",
       "3                 1                0               2             0   \n",
       "4                 0                1               0             0   \n",
       "...             ...              ...             ...           ...   \n",
       "7038              2                0               2             0   \n",
       "7039              2                1               0             2   \n",
       "7040              1                0               2             0   \n",
       "7041              2                1               0             0   \n",
       "7042              0                1               2             0   \n",
       "\n",
       "      DeviceProtection  TechSupport  StreamingTV  StreamingMovies  Contract  \\\n",
       "0                    0            0            0                0         0   \n",
       "1                    2            0            0                0         1   \n",
       "2                    0            0            0                0         0   \n",
       "3                    2            2            0                0         1   \n",
       "4                    0            0            0                0         0   \n",
       "...                ...          ...          ...              ...       ...   \n",
       "7038                 2            2            2                2         1   \n",
       "7039                 2            0            2                2         1   \n",
       "7040                 0            0            0                0         0   \n",
       "7041                 0            0            0                0         0   \n",
       "7042                 2            2            2                2         2   \n",
       "\n",
       "      PaperlessBilling  PaymentMethod  MonthlyCharges  TotalCharges  Churn  \n",
       "0                    1              2           29.85         29.85      0  \n",
       "1                    0              3           56.95       1889.50      0  \n",
       "2                    1              3           53.85        108.15      1  \n",
       "3                    0              0           42.30       1840.75      0  \n",
       "4                    1              2           70.70        151.65      1  \n",
       "...                ...            ...             ...           ...    ...  \n",
       "7038                 1              3           84.80       1990.50      0  \n",
       "7039                 1              1          103.20       7362.90      0  \n",
       "7040                 1              2           29.60        346.45      0  \n",
       "7041                 1              3           74.40        306.60      1  \n",
       "7042                 1              0          105.65       6844.50      0  \n",
       "\n",
       "[7043 rows x 20 columns]"
      ]
     },
     "execution_count": 49,
     "metadata": {},
     "output_type": "execute_result"
    }
   ],
   "source": [
    "data"
   ]
  },
  {
   "cell_type": "code",
   "execution_count": null,
   "id": "17cfae89",
   "metadata": {},
   "outputs": [],
   "source": []
  },
  {
   "cell_type": "code",
   "execution_count": 50,
   "id": "e2cb27cc",
   "metadata": {},
   "outputs": [
    {
     "data": {
      "text/plain": [
       "(10348, 40)"
      ]
     },
     "execution_count": 50,
     "metadata": {},
     "output_type": "execute_result"
    }
   ],
   "source": [
    "x_resample.shape"
   ]
  },
  {
   "cell_type": "code",
   "execution_count": 51,
   "id": "d0c0ffd8",
   "metadata": {},
   "outputs": [
    {
     "data": {
      "text/html": [
       "<div>\n",
       "<style scoped>\n",
       "    .dataframe tbody tr th:only-of-type {\n",
       "        vertical-align: middle;\n",
       "    }\n",
       "\n",
       "    .dataframe tbody tr th {\n",
       "        vertical-align: top;\n",
       "    }\n",
       "\n",
       "    .dataframe thead th {\n",
       "        text-align: right;\n",
       "    }\n",
       "</style>\n",
       "<table border=\"1\" class=\"dataframe\">\n",
       "  <thead>\n",
       "    <tr style=\"text-align: right;\">\n",
       "      <th></th>\n",
       "      <th>gender</th>\n",
       "      <th>SeniorCitizen</th>\n",
       "      <th>Partner</th>\n",
       "      <th>Dependents</th>\n",
       "      <th>tenure</th>\n",
       "      <th>PhoneService</th>\n",
       "      <th>MultipleLines</th>\n",
       "      <th>InternetService</th>\n",
       "      <th>OnlineSecurity</th>\n",
       "      <th>OnlineBackup</th>\n",
       "      <th>DeviceProtection</th>\n",
       "      <th>TechSupport</th>\n",
       "      <th>StreamingTV</th>\n",
       "      <th>StreamingMovies</th>\n",
       "      <th>Contract</th>\n",
       "      <th>PaperlessBilling</th>\n",
       "      <th>PaymentMethod</th>\n",
       "      <th>MonthlyCharges</th>\n",
       "      <th>TotalCharges</th>\n",
       "      <th>Churn</th>\n",
       "    </tr>\n",
       "  </thead>\n",
       "  <tbody>\n",
       "    <tr>\n",
       "      <th>count</th>\n",
       "      <td>7043.000000</td>\n",
       "      <td>7043.000000</td>\n",
       "      <td>7043.000000</td>\n",
       "      <td>7043.000000</td>\n",
       "      <td>7043.000000</td>\n",
       "      <td>7043.000000</td>\n",
       "      <td>7043.000000</td>\n",
       "      <td>7043.000000</td>\n",
       "      <td>7043.000000</td>\n",
       "      <td>7043.000000</td>\n",
       "      <td>7043.000000</td>\n",
       "      <td>7043.000000</td>\n",
       "      <td>7043.000000</td>\n",
       "      <td>7043.000000</td>\n",
       "      <td>7043.000000</td>\n",
       "      <td>7043.000000</td>\n",
       "      <td>7043.000000</td>\n",
       "      <td>7043.000000</td>\n",
       "      <td>7043.000000</td>\n",
       "      <td>7043.000000</td>\n",
       "    </tr>\n",
       "    <tr>\n",
       "      <th>mean</th>\n",
       "      <td>0.504756</td>\n",
       "      <td>0.162147</td>\n",
       "      <td>0.483033</td>\n",
       "      <td>0.299588</td>\n",
       "      <td>32.371149</td>\n",
       "      <td>0.903166</td>\n",
       "      <td>0.940508</td>\n",
       "      <td>0.872923</td>\n",
       "      <td>0.790004</td>\n",
       "      <td>0.906432</td>\n",
       "      <td>0.904444</td>\n",
       "      <td>0.797104</td>\n",
       "      <td>0.985376</td>\n",
       "      <td>0.992475</td>\n",
       "      <td>0.690473</td>\n",
       "      <td>0.592219</td>\n",
       "      <td>1.574329</td>\n",
       "      <td>64.761692</td>\n",
       "      <td>2281.916928</td>\n",
       "      <td>0.265370</td>\n",
       "    </tr>\n",
       "    <tr>\n",
       "      <th>std</th>\n",
       "      <td>0.500013</td>\n",
       "      <td>0.368612</td>\n",
       "      <td>0.499748</td>\n",
       "      <td>0.458110</td>\n",
       "      <td>24.559481</td>\n",
       "      <td>0.295752</td>\n",
       "      <td>0.948554</td>\n",
       "      <td>0.737796</td>\n",
       "      <td>0.859848</td>\n",
       "      <td>0.880162</td>\n",
       "      <td>0.879949</td>\n",
       "      <td>0.861551</td>\n",
       "      <td>0.885002</td>\n",
       "      <td>0.885091</td>\n",
       "      <td>0.833755</td>\n",
       "      <td>0.491457</td>\n",
       "      <td>1.068104</td>\n",
       "      <td>30.090047</td>\n",
       "      <td>2265.270398</td>\n",
       "      <td>0.441561</td>\n",
       "    </tr>\n",
       "    <tr>\n",
       "      <th>min</th>\n",
       "      <td>0.000000</td>\n",
       "      <td>0.000000</td>\n",
       "      <td>0.000000</td>\n",
       "      <td>0.000000</td>\n",
       "      <td>0.000000</td>\n",
       "      <td>0.000000</td>\n",
       "      <td>0.000000</td>\n",
       "      <td>0.000000</td>\n",
       "      <td>0.000000</td>\n",
       "      <td>0.000000</td>\n",
       "      <td>0.000000</td>\n",
       "      <td>0.000000</td>\n",
       "      <td>0.000000</td>\n",
       "      <td>0.000000</td>\n",
       "      <td>0.000000</td>\n",
       "      <td>0.000000</td>\n",
       "      <td>0.000000</td>\n",
       "      <td>18.250000</td>\n",
       "      <td>18.800000</td>\n",
       "      <td>0.000000</td>\n",
       "    </tr>\n",
       "    <tr>\n",
       "      <th>25%</th>\n",
       "      <td>0.000000</td>\n",
       "      <td>0.000000</td>\n",
       "      <td>0.000000</td>\n",
       "      <td>0.000000</td>\n",
       "      <td>9.000000</td>\n",
       "      <td>1.000000</td>\n",
       "      <td>0.000000</td>\n",
       "      <td>0.000000</td>\n",
       "      <td>0.000000</td>\n",
       "      <td>0.000000</td>\n",
       "      <td>0.000000</td>\n",
       "      <td>0.000000</td>\n",
       "      <td>0.000000</td>\n",
       "      <td>0.000000</td>\n",
       "      <td>0.000000</td>\n",
       "      <td>0.000000</td>\n",
       "      <td>1.000000</td>\n",
       "      <td>35.500000</td>\n",
       "      <td>402.225000</td>\n",
       "      <td>0.000000</td>\n",
       "    </tr>\n",
       "    <tr>\n",
       "      <th>50%</th>\n",
       "      <td>1.000000</td>\n",
       "      <td>0.000000</td>\n",
       "      <td>0.000000</td>\n",
       "      <td>0.000000</td>\n",
       "      <td>29.000000</td>\n",
       "      <td>1.000000</td>\n",
       "      <td>1.000000</td>\n",
       "      <td>1.000000</td>\n",
       "      <td>1.000000</td>\n",
       "      <td>1.000000</td>\n",
       "      <td>1.000000</td>\n",
       "      <td>1.000000</td>\n",
       "      <td>1.000000</td>\n",
       "      <td>1.000000</td>\n",
       "      <td>0.000000</td>\n",
       "      <td>1.000000</td>\n",
       "      <td>2.000000</td>\n",
       "      <td>70.350000</td>\n",
       "      <td>1397.475000</td>\n",
       "      <td>0.000000</td>\n",
       "    </tr>\n",
       "    <tr>\n",
       "      <th>75%</th>\n",
       "      <td>1.000000</td>\n",
       "      <td>0.000000</td>\n",
       "      <td>1.000000</td>\n",
       "      <td>1.000000</td>\n",
       "      <td>55.000000</td>\n",
       "      <td>1.000000</td>\n",
       "      <td>2.000000</td>\n",
       "      <td>1.000000</td>\n",
       "      <td>2.000000</td>\n",
       "      <td>2.000000</td>\n",
       "      <td>2.000000</td>\n",
       "      <td>2.000000</td>\n",
       "      <td>2.000000</td>\n",
       "      <td>2.000000</td>\n",
       "      <td>1.000000</td>\n",
       "      <td>1.000000</td>\n",
       "      <td>2.000000</td>\n",
       "      <td>89.850000</td>\n",
       "      <td>3786.600000</td>\n",
       "      <td>1.000000</td>\n",
       "    </tr>\n",
       "    <tr>\n",
       "      <th>max</th>\n",
       "      <td>1.000000</td>\n",
       "      <td>1.000000</td>\n",
       "      <td>1.000000</td>\n",
       "      <td>1.000000</td>\n",
       "      <td>72.000000</td>\n",
       "      <td>1.000000</td>\n",
       "      <td>2.000000</td>\n",
       "      <td>2.000000</td>\n",
       "      <td>2.000000</td>\n",
       "      <td>2.000000</td>\n",
       "      <td>2.000000</td>\n",
       "      <td>2.000000</td>\n",
       "      <td>2.000000</td>\n",
       "      <td>2.000000</td>\n",
       "      <td>2.000000</td>\n",
       "      <td>1.000000</td>\n",
       "      <td>3.000000</td>\n",
       "      <td>118.750000</td>\n",
       "      <td>8684.800000</td>\n",
       "      <td>1.000000</td>\n",
       "    </tr>\n",
       "  </tbody>\n",
       "</table>\n",
       "</div>"
      ],
      "text/plain": [
       "            gender  SeniorCitizen      Partner   Dependents       tenure  \\\n",
       "count  7043.000000    7043.000000  7043.000000  7043.000000  7043.000000   \n",
       "mean      0.504756       0.162147     0.483033     0.299588    32.371149   \n",
       "std       0.500013       0.368612     0.499748     0.458110    24.559481   \n",
       "min       0.000000       0.000000     0.000000     0.000000     0.000000   \n",
       "25%       0.000000       0.000000     0.000000     0.000000     9.000000   \n",
       "50%       1.000000       0.000000     0.000000     0.000000    29.000000   \n",
       "75%       1.000000       0.000000     1.000000     1.000000    55.000000   \n",
       "max       1.000000       1.000000     1.000000     1.000000    72.000000   \n",
       "\n",
       "       PhoneService  MultipleLines  InternetService  OnlineSecurity  \\\n",
       "count   7043.000000    7043.000000      7043.000000     7043.000000   \n",
       "mean       0.903166       0.940508         0.872923        0.790004   \n",
       "std        0.295752       0.948554         0.737796        0.859848   \n",
       "min        0.000000       0.000000         0.000000        0.000000   \n",
       "25%        1.000000       0.000000         0.000000        0.000000   \n",
       "50%        1.000000       1.000000         1.000000        1.000000   \n",
       "75%        1.000000       2.000000         1.000000        2.000000   \n",
       "max        1.000000       2.000000         2.000000        2.000000   \n",
       "\n",
       "       OnlineBackup  DeviceProtection  TechSupport  StreamingTV  \\\n",
       "count   7043.000000       7043.000000  7043.000000  7043.000000   \n",
       "mean       0.906432          0.904444     0.797104     0.985376   \n",
       "std        0.880162          0.879949     0.861551     0.885002   \n",
       "min        0.000000          0.000000     0.000000     0.000000   \n",
       "25%        0.000000          0.000000     0.000000     0.000000   \n",
       "50%        1.000000          1.000000     1.000000     1.000000   \n",
       "75%        2.000000          2.000000     2.000000     2.000000   \n",
       "max        2.000000          2.000000     2.000000     2.000000   \n",
       "\n",
       "       StreamingMovies     Contract  PaperlessBilling  PaymentMethod  \\\n",
       "count      7043.000000  7043.000000       7043.000000    7043.000000   \n",
       "mean          0.992475     0.690473          0.592219       1.574329   \n",
       "std           0.885091     0.833755          0.491457       1.068104   \n",
       "min           0.000000     0.000000          0.000000       0.000000   \n",
       "25%           0.000000     0.000000          0.000000       1.000000   \n",
       "50%           1.000000     0.000000          1.000000       2.000000   \n",
       "75%           2.000000     1.000000          1.000000       2.000000   \n",
       "max           2.000000     2.000000          1.000000       3.000000   \n",
       "\n",
       "       MonthlyCharges  TotalCharges        Churn  \n",
       "count     7043.000000   7043.000000  7043.000000  \n",
       "mean        64.761692   2281.916928     0.265370  \n",
       "std         30.090047   2265.270398     0.441561  \n",
       "min         18.250000     18.800000     0.000000  \n",
       "25%         35.500000    402.225000     0.000000  \n",
       "50%         70.350000   1397.475000     0.000000  \n",
       "75%         89.850000   3786.600000     1.000000  \n",
       "max        118.750000   8684.800000     1.000000  "
      ]
     },
     "execution_count": 51,
     "metadata": {},
     "output_type": "execute_result"
    }
   ],
   "source": [
    "data.describe()"
   ]
  },
  {
   "cell_type": "code",
   "execution_count": 52,
   "id": "8ab56f99",
   "metadata": {},
   "outputs": [
    {
     "name": "stderr",
     "output_type": "stream",
     "text": [
      "C:\\Users\\ELCOT\\anaconda3\\lib\\site-packages\\seaborn\\distributions.py:2619: FutureWarning: `distplot` is a deprecated function and will be removed in a future version. Please adapt your code to use either `displot` (a figure-level function with similar flexibility) or `histplot` (an axes-level function for histograms).\n",
      "  warnings.warn(msg, FutureWarning)\n",
      "C:\\Users\\ELCOT\\anaconda3\\lib\\site-packages\\seaborn\\distributions.py:2619: FutureWarning: `distplot` is a deprecated function and will be removed in a future version. Please adapt your code to use either `displot` (a figure-level function with similar flexibility) or `histplot` (an axes-level function for histograms).\n",
      "  warnings.warn(msg, FutureWarning)\n"
     ]
    },
    {
     "data": {
      "text/plain": [
       "<AxesSubplot:xlabel='MonthlyCharges', ylabel='Density'>"
      ]
     },
     "execution_count": 52,
     "metadata": {},
     "output_type": "execute_result"
    },
    {
     "data": {
      "image/png": "[encoded data removed]",
      "text/plain": [
       "<Figure size 1200x500 with 2 Axes>"
      ]
     },
     "metadata": {},
     "output_type": "display_data"
    }
   ],
   "source": [
    "plt.figure(figsize=(12,5))\n",
    "plt.subplot(1,2,1)\n",
    "sns.distplot(data[\"tenure\"])\n",
    "plt.subplot(1,2,2)\n",
    "sns.distplot(data[\"MonthlyCharges\"])"
   ]
  },
  {
   "cell_type": "code",
   "execution_count": 53,
   "id": "bae6b869",
   "metadata": {},
   "outputs": [
    {
     "name": "stderr",
     "output_type": "stream",
     "text": [
      "C:\\Users\\ELCOT\\anaconda3\\lib\\site-packages\\seaborn\\_decorators.py:36: FutureWarning: Pass the following variable as a keyword arg: x. From version 0.12, the only valid positional argument will be `data`, and passing other arguments without an explicit keyword will result in an error or misinterpretation.\n",
      "  warnings.warn(\n",
      "C:\\Users\\ELCOT\\anaconda3\\lib\\site-packages\\seaborn\\_decorators.py:36: FutureWarning: Pass the following variable as a keyword arg: x. From version 0.12, the only valid positional argument will be `data`, and passing other arguments without an explicit keyword will result in an error or misinterpretation.\n",
      "  warnings.warn(\n"
     ]
    },
    {
     "data": {
      "text/plain": [
       "<AxesSubplot:xlabel='Dependents', ylabel='count'>"
      ]
     },
     "execution_count": 53,
     "metadata": {},
     "output_type": "execute_result"
    },
    {
     "data": {
      "image/png": "[encoded data removed]",
      "text/plain": [
       "<Figure size 1200x500 with 2 Axes>"
      ]
     },
     "metadata": {},
     "output_type": "display_data"
    }
   ],
   "source": [
    "plt.figure(figsize=(12,5))\n",
    "plt.subplot(1,2,1)\n",
    "sns.countplot(data[\"gender\"])\n",
    "plt.subplot(1,2,2)\n",
    "sns.countplot(data[\"Dependents\"])"
   ]
  },
  {
   "cell_type": "code",
   "execution_count": 54,
   "id": "ce5334e2",
   "metadata": {},
   "outputs": [
    {
     "data": {
      "text/plain": [
       "<AxesSubplot:xlabel='Churn', ylabel='MonthlyCharges'>"
      ]
     },
     "execution_count": 54,
     "metadata": {},
     "output_type": "execute_result"
    },
    {
     "data": {
      "image/png": "[encoded data removed]",
      "text/plain": [
       "<Figure size 640x480 with 1 Axes>"
      ]
     },
     "metadata": {},
     "output_type": "display_data"
    }
   ],
   "source": [
    "sns.barplot(x=\"Churn\",y=\"MonthlyCharges\",data=data)"
   ]
  },
  {
   "cell_type": "code",
   "execution_count": 55,
   "id": "cfe03f6d",
   "metadata": {},
   "outputs": [],
   "source": [
    "from sklearn.model_selection import train_test_split\n",
    "x_train,x_test,y_train,y_test = train_test_split(x_resample,y_resample,test_size = 0.2, random_state=0)"
   ]
  },
  {
   "cell_type": "code",
   "execution_count": 56,
   "id": "8ad63f66",
   "metadata": {},
   "outputs": [],
   "source": [
    "from sklearn.preprocessing import StandardScaler\n",
    "sc = StandardScaler()\n",
    "x_train = sc.fit_transform(x_train)\n",
    "x_test = sc.fit_transform(x_test)"
   ]
  },
  {
   "cell_type": "code",
   "execution_count": 57,
   "id": "f0b66f9f",
   "metadata": {},
   "outputs": [],
   "source": [
    "def logreg(x_train,x_test,y_train,y_test):\n",
    "    lr = LogisticRegression(random_state=0)\n",
    "    lr.fit(x_train,y_train)\n",
    "    y_lr_tr = lr.predict(x_train)\n",
    "    print(accuracy_score(y_lr_tr,y_train))\n",
    "    yPred_lr = lr.predict(x_test)\n",
    "    print(accuracy_score(yPred_lr,y_test))\n",
    "    print(\"***Logistic Regression***\")\n",
    "    print(\"Confusion_Matrix\")\n",
    "    print(confusion_matrix(y_test,yPred_lr))\n",
    "    print(\"Classification Report\")\n",
    "    print(classification_report(y_test,yPred_lr))\n",
    "    "
   ]
  },
  {
   "cell_type": "code",
   "execution_count": 58,
   "id": "fa39c115",
   "metadata": {},
   "outputs": [
    {
     "name": "stdout",
     "output_type": "stream",
     "text": [
      "0.7742208262865427\n",
      "0.7763285024154589\n",
      "***Logistic Regression***\n",
      "Confusion_Matrix\n",
      "[[750 283]\n",
      " [180 857]]\n",
      "Classification Report\n",
      "              precision    recall  f1-score   support\n",
      "\n",
      "           0       0.81      0.73      0.76      1033\n",
      "           1       0.75      0.83      0.79      1037\n",
      "\n",
      "    accuracy                           0.78      2070\n",
      "   macro avg       0.78      0.78      0.78      2070\n",
      "weighted avg       0.78      0.78      0.78      2070\n",
      "\n"
     ]
    }
   ],
   "source": [
    "logreg(x_train,x_test,y_train,y_test)"
   ]
  },
  {
   "cell_type": "code",
   "execution_count": 59,
   "id": "94ac54c9",
   "metadata": {},
   "outputs": [],
   "source": [
    "\n",
    "def decisionTree(x_train,x_test,y_train,y_test):\n",
    "    dtc = DecisionTreeClassifier(criterion=\"entropy\",random_state=0)\n",
    "    dtc.fit(x_train,y_train)\n",
    "    y_dt_tr = dtc.predict(x_train)\n",
    "    print(accuracy_score(y_dt_tr,y_train))\n",
    "    yPred_dt = dtc.predict(x_test)\n",
    "    print(accuracy_score(yPred_dt,y_test))\n",
    "    print(\"***Decision Tree***\")\n",
    "    print(\"Confusion_Matrix\")\n",
    "    print(confusion_matrix(y_test,yPred_dt))\n",
    "    print(\"Classification Report\")\n",
    "    print(classification_report(y_test,yPred_dt))"
   ]
  },
  {
   "cell_type": "code",
   "execution_count": 60,
   "id": "9e7be297",
   "metadata": {},
   "outputs": [
    {
     "name": "stdout",
     "output_type": "stream",
     "text": [
      "0.9981879681082387\n",
      "0.7434782608695653\n",
      "***Decision Tree***\n",
      "Confusion_Matrix\n",
      "[[ 534  499]\n",
      " [  32 1005]]\n",
      "Classification Report\n",
      "              precision    recall  f1-score   support\n",
      "\n",
      "           0       0.94      0.52      0.67      1033\n",
      "           1       0.67      0.97      0.79      1037\n",
      "\n",
      "    accuracy                           0.74      2070\n",
      "   macro avg       0.81      0.74      0.73      2070\n",
      "weighted avg       0.81      0.74      0.73      2070\n",
      "\n"
     ]
    }
   ],
   "source": [
    "decisionTree(x_train,x_test,y_train,y_test)"
   ]
  },
  {
   "cell_type": "code",
   "execution_count": 61,
   "id": "2ce4a14f",
   "metadata": {},
   "outputs": [],
   "source": [
    "def RandomForest(x_train,x_test,y_train,y_test):\n",
    "    rf = RandomForestClassifier(criterion=\"entropy\",n_estimators=10,random_state=0)\n",
    "    rf.fit(x_train,y_train)\n",
    "    y_rf_tr = rf.predict(x_train)\n",
    "    print(accuracy_score(y_rf_tr,y_train))\n",
    "    yPred_rf = rf.predict(x_test)\n",
    "    print(accuracy_score(yPred_rf,y_test))\n",
    "    print(\"***Random Forest***\")\n",
    "    print(\"Confusion Matrix\")\n",
    "    print(confusion_matrix(y_test,yPred_rf))\n",
    "    print(classification_report(y_test,yPred_rf))\n",
    "    "
   ]
  },
  {
   "cell_type": "code",
   "execution_count": 62,
   "id": "976ce88b",
   "metadata": {},
   "outputs": [
    {
     "name": "stdout",
     "output_type": "stream",
     "text": [
      "0.9874365788837883\n",
      "0.7304347826086957\n",
      "***Random Forest***\n",
      "Confusion Matrix\n",
      "[[ 510  523]\n",
      " [  35 1002]]\n",
      "              precision    recall  f1-score   support\n",
      "\n",
      "           0       0.94      0.49      0.65      1033\n",
      "           1       0.66      0.97      0.78      1037\n",
      "\n",
      "    accuracy                           0.73      2070\n",
      "   macro avg       0.80      0.73      0.71      2070\n",
      "weighted avg       0.80      0.73      0.71      2070\n",
      "\n"
     ]
    }
   ],
   "source": [
    "RandomForest(x_train,x_test,y_train,y_test)\n"
   ]
  },
  {
   "cell_type": "code",
   "execution_count": 63,
   "id": "77cdccbe",
   "metadata": {},
   "outputs": [],
   "source": [
    "def KNN(x_train,x_test,y_train,y_test):\n",
    "    knn = KNeighborsClassifier()\n",
    "    knn.fit(x_train,y_train)\n",
    "    y_knn_tr = knn.predict(x_train)\n",
    "    print(accuracy_score(y_knn_tr,y_train))\n",
    "    yPred_knn = knn.predict(x_test)\n",
    "    print(accuracy_score(yPred_knn,y_test))\n",
    "    print(\"***KNN***\")\n",
    "    print(\"Confusion_Matrix\")\n",
    "    print(confusion_matrix(y_test,yPred_knn))\n",
    "    print(\"Classification Report\")\n",
    "    print(classification_report(y_test,yPred_knn))"
   ]
  },
  {
   "cell_type": "code",
   "execution_count": 64,
   "id": "b01b9bfa",
   "metadata": {},
   "outputs": [
    {
     "name": "stderr",
     "output_type": "stream",
     "text": [
      "C:\\Users\\ELCOT\\anaconda3\\lib\\site-packages\\sklearn\\neighbors\\_classification.py:228: FutureWarning: Unlike other reduction functions (e.g. `skew`, `kurtosis`), the default behavior of `mode` typically preserves the axis it acts along. In SciPy 1.11.0, this behavior will change: the default value of `keepdims` will become False, the `axis` over which the statistic is taken will be eliminated, and the value None will no longer be accepted. Set `keepdims` to True or False to avoid this warning.\n",
      "  mode, _ = stats.mode(_y[neigh_ind, k], axis=1)\n"
     ]
    },
    {
     "name": "stdout",
     "output_type": "stream",
     "text": [
      "0.8535878231456874\n"
     ]
    },
    {
     "name": "stderr",
     "output_type": "stream",
     "text": [
      "C:\\Users\\ELCOT\\anaconda3\\lib\\site-packages\\sklearn\\neighbors\\_classification.py:228: FutureWarning: Unlike other reduction functions (e.g. `skew`, `kurtosis`), the default behavior of `mode` typically preserves the axis it acts along. In SciPy 1.11.0, this behavior will change: the default value of `keepdims` will become False, the `axis` over which the statistic is taken will be eliminated, and the value None will no longer be accepted. Set `keepdims` to True or False to avoid this warning.\n",
      "  mode, _ = stats.mode(_y[neigh_ind, k], axis=1)\n"
     ]
    },
    {
     "name": "stdout",
     "output_type": "stream",
     "text": [
      "0.7913043478260869\n",
      "***KNN***\n",
      "Confusion_Matrix\n",
      "[[716 317]\n",
      " [115 922]]\n",
      "Classification Report\n",
      "              precision    recall  f1-score   support\n",
      "\n",
      "           0       0.86      0.69      0.77      1033\n",
      "           1       0.74      0.89      0.81      1037\n",
      "\n",
      "    accuracy                           0.79      2070\n",
      "   macro avg       0.80      0.79      0.79      2070\n",
      "weighted avg       0.80      0.79      0.79      2070\n",
      "\n"
     ]
    }
   ],
   "source": [
    "\n",
    "KNN(x_train,x_test,y_train,y_test)\n"
   ]
  },
  {
   "cell_type": "code",
   "execution_count": 65,
   "id": "ece5a92e",
   "metadata": {},
   "outputs": [],
   "source": [
    "def svm(x_train,x_test,y_train,y_test):\n",
    "    svm = SVC(kernel = \"linear\")\n",
    "    svm.fit(x_train,y_train)\n",
    "    y_svm_tr = svm.predict(x_train)\n",
    "    print(accuracy_score(y_svm_tr,y_train))\n",
    "    yPred_svm = svm.predict(x_test)\n",
    "    print(\"***Support Vector Machine***\")\n",
    "    print(\"Confusion_Matrix\")\n",
    "    print(confusion_matrix(y_test,yPred_svm))\n",
    "    print(\"Classification Report\")\n",
    "    print(classification_report(y_test,yPred_svm))"
   ]
  },
  {
   "cell_type": "code",
   "execution_count": 66,
   "id": "a71288f4",
   "metadata": {},
   "outputs": [
    {
     "name": "stdout",
     "output_type": "stream",
     "text": [
      "0.7622614158009181\n",
      "***Support Vector Machine***\n",
      "Confusion_Matrix\n",
      "[[711 322]\n",
      " [193 844]]\n",
      "Classification Report\n",
      "              precision    recall  f1-score   support\n",
      "\n",
      "           0       0.79      0.69      0.73      1033\n",
      "           1       0.72      0.81      0.77      1037\n",
      "\n",
      "    accuracy                           0.75      2070\n",
      "   macro avg       0.76      0.75      0.75      2070\n",
      "weighted avg       0.76      0.75      0.75      2070\n",
      "\n"
     ]
    }
   ],
   "source": [
    "svm(x_train,x_test,y_train,y_test)"
   ]
  },
  {
   "cell_type": "code",
   "execution_count": 67,
   "id": "995ea134",
   "metadata": {},
   "outputs": [
    {
     "name": "stdout",
     "output_type": "stream",
     "text": [
      "Requirement already satisfied: keras in c:\\users\\elcot\\anaconda3\\lib\\site-packages (2.12.0)\n"
     ]
    }
   ],
   "source": [
    "!pip install keras\n"
   ]
  },
  {
   "cell_type": "code",
   "execution_count": 67,
   "id": "51ac8c77",
   "metadata": {},
   "outputs": [],
   "source": [
    "import keras\n",
    "from keras.models import Sequential\n",
    "from keras.layers import Dense"
   ]
  },
  {
   "cell_type": "code",
   "execution_count": 68,
   "id": "8ef39a21",
   "metadata": {},
   "outputs": [],
   "source": [
    "classifier = Sequential()"
   ]
  },
  {
   "cell_type": "code",
   "execution_count": 69,
   "id": "ccf8bf21",
   "metadata": {},
   "outputs": [],
   "source": [
    "\n",
    "classifier.add(Dense(units=30,activation='relu', input_dim=40))"
   ]
  },
  {
   "cell_type": "code",
   "execution_count": 70,
   "id": "ec11e0ab",
   "metadata": {},
   "outputs": [],
   "source": [
    "classifier.add(Dense(units=30, activation='relu'))"
   ]
  },
  {
   "cell_type": "code",
   "execution_count": 71,
   "id": "b4a430d7",
   "metadata": {},
   "outputs": [],
   "source": [
    "classifier.add(Dense(units=1,activation='sigmoid'))"
   ]
  },
  {
   "cell_type": "code",
   "execution_count": 72,
   "id": "ebc04616",
   "metadata": {},
   "outputs": [],
   "source": [
    "classifier.compile(optimizer='adam',loss='binary_crossentropy',metrics=['accuracy'])"
   ]
  },
  {
   "cell_type": "code",
   "execution_count": 74,
   "id": "fc198ddb",
   "metadata": {},
   "outputs": [
    {
     "name": "stdout",
     "output_type": "stream",
     "text": [
      "Epoch 1/200\n",
      "555/555 [==============================] - 13s 14ms/step - loss: 0.4984 - accuracy: 0.7544 - val_loss: 0.4703 - val_accuracy: 0.7679\n",
      "Epoch 2/200\n",
      "555/555 [==============================] - 7s 12ms/step - loss: 0.4561 - accuracy: 0.7847 - val_loss: 0.4609 - val_accuracy: 0.7811\n",
      "Epoch 3/200\n",
      "555/555 [==============================] - 5s 9ms/step - loss: 0.4422 - accuracy: 0.7944 - val_loss: 0.4531 - val_accuracy: 0.7840\n",
      "Epoch 4/200\n",
      "555/555 [==============================] - 5s 9ms/step - loss: 0.4322 - accuracy: 0.7984 - val_loss: 0.4519 - val_accuracy: 0.7910\n",
      "Epoch 5/200\n",
      "555/555 [==============================] - 5s 9ms/step - loss: 0.4232 - accuracy: 0.8036 - val_loss: 0.4436 - val_accuracy: 0.7936\n",
      "Epoch 6/200\n",
      "555/555 [==============================] - 5s 9ms/step - loss: 0.4144 - accuracy: 0.8114 - val_loss: 0.4415 - val_accuracy: 0.7859\n",
      "Epoch 7/200\n",
      "555/555 [==============================] - 5s 9ms/step - loss: 0.4074 - accuracy: 0.8112 - val_loss: 0.4429 - val_accuracy: 0.7921\n",
      "Epoch 8/200\n",
      "555/555 [==============================] - 4s 8ms/step - loss: 0.4012 - accuracy: 0.8141 - val_loss: 0.4438 - val_accuracy: 0.7925\n",
      "Epoch 9/200\n",
      "555/555 [==============================] - 5s 9ms/step - loss: 0.3908 - accuracy: 0.8204 - val_loss: 0.4388 - val_accuracy: 0.7958\n",
      "Epoch 10/200\n",
      "555/555 [==============================] - 5s 9ms/step - loss: 0.3841 - accuracy: 0.8325 - val_loss: 0.4531 - val_accuracy: 0.7906\n",
      "Epoch 11/200\n",
      "555/555 [==============================] - 5s 9ms/step - loss: 0.3784 - accuracy: 0.8301 - val_loss: 0.4333 - val_accuracy: 0.8009\n",
      "Epoch 12/200\n",
      "555/555 [==============================] - 5s 9ms/step - loss: 0.3724 - accuracy: 0.8359 - val_loss: 0.4343 - val_accuracy: 0.8005\n",
      "Epoch 13/200\n",
      "555/555 [==============================] - 5s 9ms/step - loss: 0.3660 - accuracy: 0.8336 - val_loss: 0.4336 - val_accuracy: 0.8086\n",
      "Epoch 14/200\n",
      "555/555 [==============================] - 5s 9ms/step - loss: 0.3599 - accuracy: 0.8422 - val_loss: 0.4359 - val_accuracy: 0.8049\n",
      "Epoch 15/200\n",
      "555/555 [==============================] - 5s 9ms/step - loss: 0.3528 - accuracy: 0.8440 - val_loss: 0.4391 - val_accuracy: 0.8016\n",
      "Epoch 16/200\n",
      "555/555 [==============================] - 5s 9ms/step - loss: 0.3501 - accuracy: 0.8422 - val_loss: 0.4308 - val_accuracy: 0.8089\n",
      "Epoch 17/200\n",
      "555/555 [==============================] - 5s 9ms/step - loss: 0.3438 - accuracy: 0.8473 - val_loss: 0.4453 - val_accuracy: 0.8056\n",
      "Epoch 18/200\n",
      "555/555 [==============================] - 5s 8ms/step - loss: 0.3430 - accuracy: 0.8453 - val_loss: 0.4340 - val_accuracy: 0.8078\n",
      "Epoch 19/200\n",
      "555/555 [==============================] - 5s 8ms/step - loss: 0.3341 - accuracy: 0.8502 - val_loss: 0.4373 - val_accuracy: 0.8078\n",
      "Epoch 20/200\n",
      "555/555 [==============================] - 5s 9ms/step - loss: 0.3323 - accuracy: 0.8509 - val_loss: 0.4285 - val_accuracy: 0.8137\n",
      "Epoch 21/200\n",
      "555/555 [==============================] - 5s 9ms/step - loss: 0.3271 - accuracy: 0.8502 - val_loss: 0.4404 - val_accuracy: 0.8108\n",
      "Epoch 22/200\n",
      "555/555 [==============================] - 5s 8ms/step - loss: 0.3239 - accuracy: 0.8603 - val_loss: 0.4312 - val_accuracy: 0.8130\n",
      "Epoch 23/200\n",
      "555/555 [==============================] - 5s 8ms/step - loss: 0.3180 - accuracy: 0.8594 - val_loss: 0.4472 - val_accuracy: 0.8045\n",
      "Epoch 24/200\n",
      "555/555 [==============================] - 5s 9ms/step - loss: 0.3172 - accuracy: 0.8559 - val_loss: 0.4440 - val_accuracy: 0.8027\n",
      "Epoch 25/200\n",
      "555/555 [==============================] - 5s 9ms/step - loss: 0.3126 - accuracy: 0.8594 - val_loss: 0.4307 - val_accuracy: 0.8130\n",
      "Epoch 26/200\n",
      "555/555 [==============================] - 5s 9ms/step - loss: 0.3086 - accuracy: 0.8621 - val_loss: 0.4461 - val_accuracy: 0.8031\n",
      "Epoch 27/200\n",
      "555/555 [==============================] - 5s 9ms/step - loss: 0.3031 - accuracy: 0.8693 - val_loss: 0.4485 - val_accuracy: 0.8115\n",
      "Epoch 28/200\n",
      "555/555 [==============================] - 5s 9ms/step - loss: 0.3038 - accuracy: 0.8635 - val_loss: 0.4434 - val_accuracy: 0.8078\n",
      "Epoch 29/200\n",
      "555/555 [==============================] - 5s 9ms/step - loss: 0.3006 - accuracy: 0.8617 - val_loss: 0.4380 - val_accuracy: 0.8075\n",
      "Epoch 30/200\n",
      "555/555 [==============================] - 5s 10ms/step - loss: 0.2975 - accuracy: 0.8684 - val_loss: 0.4432 - val_accuracy: 0.8115\n",
      "Epoch 31/200\n",
      "555/555 [==============================] - 5s 9ms/step - loss: 0.2907 - accuracy: 0.8725 - val_loss: 0.4539 - val_accuracy: 0.8155\n",
      "Epoch 32/200\n",
      "555/555 [==============================] - 5s 9ms/step - loss: 0.2892 - accuracy: 0.8705 - val_loss: 0.4527 - val_accuracy: 0.8082\n",
      "Epoch 33/200\n",
      "555/555 [==============================] - 5s 9ms/step - loss: 0.2860 - accuracy: 0.8729 - val_loss: 0.4521 - val_accuracy: 0.8053\n",
      "Epoch 34/200\n",
      "555/555 [==============================] - 5s 9ms/step - loss: 0.2845 - accuracy: 0.8749 - val_loss: 0.4412 - val_accuracy: 0.8122\n",
      "Epoch 35/200\n",
      "555/555 [==============================] - 6s 10ms/step - loss: 0.2813 - accuracy: 0.8741 - val_loss: 0.4541 - val_accuracy: 0.8130\n",
      "Epoch 36/200\n",
      "555/555 [==============================] - 5s 9ms/step - loss: 0.2770 - accuracy: 0.8759 - val_loss: 0.4678 - val_accuracy: 0.7928\n",
      "Epoch 37/200\n",
      "555/555 [==============================] - 5s 9ms/step - loss: 0.2780 - accuracy: 0.8779 - val_loss: 0.4475 - val_accuracy: 0.8159\n",
      "Epoch 38/200\n",
      "555/555 [==============================] - 5s 9ms/step - loss: 0.2718 - accuracy: 0.8794 - val_loss: 0.4619 - val_accuracy: 0.8089\n",
      "Epoch 39/200\n",
      "555/555 [==============================] - 5s 8ms/step - loss: 0.2698 - accuracy: 0.8835 - val_loss: 0.4652 - val_accuracy: 0.8115\n",
      "Epoch 40/200\n",
      "555/555 [==============================] - 5s 9ms/step - loss: 0.2699 - accuracy: 0.8796 - val_loss: 0.4642 - val_accuracy: 0.8130\n",
      "Epoch 41/200\n",
      "555/555 [==============================] - 5s 9ms/step - loss: 0.2650 - accuracy: 0.8830 - val_loss: 0.4607 - val_accuracy: 0.8126\n",
      "Epoch 42/200\n",
      "555/555 [==============================] - 5s 8ms/step - loss: 0.2652 - accuracy: 0.8862 - val_loss: 0.4703 - val_accuracy: 0.8082\n",
      "Epoch 43/200\n",
      "555/555 [==============================] - 5s 9ms/step - loss: 0.2607 - accuracy: 0.8826 - val_loss: 0.4628 - val_accuracy: 0.8137\n",
      "Epoch 44/200\n",
      "555/555 [==============================] - 5s 9ms/step - loss: 0.2595 - accuracy: 0.8900 - val_loss: 0.4967 - val_accuracy: 0.7936\n",
      "Epoch 45/200\n",
      "555/555 [==============================] - 5s 9ms/step - loss: 0.2564 - accuracy: 0.8911 - val_loss: 0.4693 - val_accuracy: 0.8173\n",
      "Epoch 46/200\n",
      "555/555 [==============================] - 5s 8ms/step - loss: 0.2565 - accuracy: 0.8878 - val_loss: 0.4717 - val_accuracy: 0.8093\n",
      "Epoch 47/200\n",
      "555/555 [==============================] - 5s 9ms/step - loss: 0.2530 - accuracy: 0.8918 - val_loss: 0.4825 - val_accuracy: 0.8163\n",
      "Epoch 48/200\n",
      "555/555 [==============================] - 5s 10ms/step - loss: 0.2501 - accuracy: 0.8911 - val_loss: 0.4788 - val_accuracy: 0.8133\n",
      "Epoch 49/200\n",
      "555/555 [==============================] - 7s 12ms/step - loss: 0.2492 - accuracy: 0.8915 - val_loss: 0.4771 - val_accuracy: 0.8148\n",
      "Epoch 50/200\n",
      "555/555 [==============================] - 5s 9ms/step - loss: 0.2490 - accuracy: 0.8871 - val_loss: 0.4823 - val_accuracy: 0.8093\n",
      "Epoch 51/200\n",
      "555/555 [==============================] - 5s 9ms/step - loss: 0.2455 - accuracy: 0.8956 - val_loss: 0.4753 - val_accuracy: 0.8104\n",
      "Epoch 52/200\n",
      "555/555 [==============================] - 5s 9ms/step - loss: 0.2445 - accuracy: 0.8960 - val_loss: 0.4819 - val_accuracy: 0.8115\n",
      "Epoch 53/200\n",
      "555/555 [==============================] - 5s 9ms/step - loss: 0.2424 - accuracy: 0.8920 - val_loss: 0.4792 - val_accuracy: 0.8163\n",
      "Epoch 54/200\n",
      "555/555 [==============================] - 5s 9ms/step - loss: 0.2436 - accuracy: 0.8915 - val_loss: 0.4893 - val_accuracy: 0.8173\n",
      "Epoch 55/200\n",
      "555/555 [==============================] - 5s 8ms/step - loss: 0.2366 - accuracy: 0.8938 - val_loss: 0.5025 - val_accuracy: 0.8137\n",
      "Epoch 56/200\n",
      "555/555 [==============================] - 5s 9ms/step - loss: 0.2365 - accuracy: 0.8947 - val_loss: 0.4970 - val_accuracy: 0.8100\n",
      "Epoch 57/200\n",
      "555/555 [==============================] - 5s 9ms/step - loss: 0.2326 - accuracy: 0.9016 - val_loss: 0.5133 - val_accuracy: 0.8126\n"
     ]
    },
    {
     "name": "stdout",
     "output_type": "stream",
     "text": [
      "Epoch 58/200\n",
      "555/555 [==============================] - 5s 9ms/step - loss: 0.2354 - accuracy: 0.8958 - val_loss: 0.4952 - val_accuracy: 0.8078\n",
      "Epoch 59/200\n",
      "555/555 [==============================] - 5s 8ms/step - loss: 0.2357 - accuracy: 0.8960 - val_loss: 0.4900 - val_accuracy: 0.8042\n",
      "Epoch 60/200\n",
      "555/555 [==============================] - 5s 8ms/step - loss: 0.2316 - accuracy: 0.8987 - val_loss: 0.5097 - val_accuracy: 0.8173\n",
      "Epoch 61/200\n",
      "555/555 [==============================] - 5s 9ms/step - loss: 0.2322 - accuracy: 0.8979 - val_loss: 0.5035 - val_accuracy: 0.8111\n",
      "Epoch 62/200\n",
      "555/555 [==============================] - 5s 9ms/step - loss: 0.2270 - accuracy: 0.9041 - val_loss: 0.5095 - val_accuracy: 0.8097\n",
      "Epoch 63/200\n",
      "555/555 [==============================] - 5s 8ms/step - loss: 0.2305 - accuracy: 0.8990 - val_loss: 0.5270 - val_accuracy: 0.8020\n",
      "Epoch 64/200\n",
      "555/555 [==============================] - 5s 9ms/step - loss: 0.2271 - accuracy: 0.9010 - val_loss: 0.5123 - val_accuracy: 0.8082\n",
      "Epoch 65/200\n",
      "555/555 [==============================] - 5s 9ms/step - loss: 0.2259 - accuracy: 0.8981 - val_loss: 0.5140 - val_accuracy: 0.8144\n",
      "Epoch 66/200\n",
      "555/555 [==============================] - 5s 9ms/step - loss: 0.2222 - accuracy: 0.9014 - val_loss: 0.5181 - val_accuracy: 0.8122\n",
      "Epoch 67/200\n",
      "555/555 [==============================] - 5s 8ms/step - loss: 0.2201 - accuracy: 0.9043 - val_loss: 0.5119 - val_accuracy: 0.8097\n",
      "Epoch 68/200\n",
      "555/555 [==============================] - 5s 9ms/step - loss: 0.2196 - accuracy: 0.9030 - val_loss: 0.5304 - val_accuracy: 0.8086\n",
      "Epoch 69/200\n",
      "555/555 [==============================] - 5s 9ms/step - loss: 0.2197 - accuracy: 0.9079 - val_loss: 0.5218 - val_accuracy: 0.8159\n",
      "Epoch 70/200\n",
      "555/555 [==============================] - 5s 9ms/step - loss: 0.2203 - accuracy: 0.9039 - val_loss: 0.5163 - val_accuracy: 0.8082\n",
      "Epoch 71/200\n",
      "555/555 [==============================] - 5s 8ms/step - loss: 0.2178 - accuracy: 0.9062 - val_loss: 0.5273 - val_accuracy: 0.8111\n",
      "Epoch 72/200\n",
      "555/555 [==============================] - 5s 9ms/step - loss: 0.2173 - accuracy: 0.9041 - val_loss: 0.5520 - val_accuracy: 0.8082\n",
      "Epoch 73/200\n",
      "555/555 [==============================] - 5s 9ms/step - loss: 0.2140 - accuracy: 0.9037 - val_loss: 0.5264 - val_accuracy: 0.8152\n",
      "Epoch 74/200\n",
      "555/555 [==============================] - 5s 9ms/step - loss: 0.2157 - accuracy: 0.9064 - val_loss: 0.5343 - val_accuracy: 0.8126\n",
      "Epoch 75/200\n",
      "555/555 [==============================] - 5s 8ms/step - loss: 0.2080 - accuracy: 0.9102 - val_loss: 0.5451 - val_accuracy: 0.8115\n",
      "Epoch 76/200\n",
      "555/555 [==============================] - 5s 9ms/step - loss: 0.2112 - accuracy: 0.9086 - val_loss: 0.5497 - val_accuracy: 0.8086\n",
      "Epoch 77/200\n",
      "555/555 [==============================] - 5s 9ms/step - loss: 0.2103 - accuracy: 0.9084 - val_loss: 0.5467 - val_accuracy: 0.8133\n",
      "Epoch 78/200\n",
      "555/555 [==============================] - 5s 9ms/step - loss: 0.2130 - accuracy: 0.9070 - val_loss: 0.5423 - val_accuracy: 0.8071\n",
      "Epoch 79/200\n",
      "555/555 [==============================] - 5s 10ms/step - loss: 0.2105 - accuracy: 0.9079 - val_loss: 0.5616 - val_accuracy: 0.8089\n",
      "Epoch 80/200\n",
      "555/555 [==============================] - 5s 8ms/step - loss: 0.2048 - accuracy: 0.9118 - val_loss: 0.5459 - val_accuracy: 0.8104\n",
      "Epoch 81/200\n",
      "555/555 [==============================] - 5s 9ms/step - loss: 0.2055 - accuracy: 0.9107 - val_loss: 0.5473 - val_accuracy: 0.8082\n",
      "Epoch 82/200\n",
      "555/555 [==============================] - 6s 10ms/step - loss: 0.2054 - accuracy: 0.9113 - val_loss: 0.5737 - val_accuracy: 0.8108\n",
      "Epoch 83/200\n",
      "555/555 [==============================] - 7s 13ms/step - loss: 0.2066 - accuracy: 0.9104 - val_loss: 0.5624 - val_accuracy: 0.8045\n",
      "Epoch 84/200\n",
      "555/555 [==============================] - 5s 9ms/step - loss: 0.2031 - accuracy: 0.9124 - val_loss: 0.5554 - val_accuracy: 0.8100\n",
      "Epoch 85/200\n",
      "555/555 [==============================] - 5s 10ms/step - loss: 0.2010 - accuracy: 0.9120 - val_loss: 0.5645 - val_accuracy: 0.8115\n",
      "Epoch 86/200\n",
      "555/555 [==============================] - 7s 13ms/step - loss: 0.2057 - accuracy: 0.9116 - val_loss: 0.5736 - val_accuracy: 0.8049\n",
      "Epoch 87/200\n",
      "555/555 [==============================] - 7s 12ms/step - loss: 0.2002 - accuracy: 0.9115 - val_loss: 0.5723 - val_accuracy: 0.8064\n",
      "Epoch 88/200\n",
      "555/555 [==============================] - 5s 9ms/step - loss: 0.1982 - accuracy: 0.9154 - val_loss: 0.5681 - val_accuracy: 0.8075\n",
      "Epoch 89/200\n",
      "555/555 [==============================] - 5s 9ms/step - loss: 0.1965 - accuracy: 0.9158 - val_loss: 0.5917 - val_accuracy: 0.8067\n",
      "Epoch 90/200\n",
      "555/555 [==============================] - 5s 9ms/step - loss: 0.1987 - accuracy: 0.9115 - val_loss: 0.6176 - val_accuracy: 0.8089\n",
      "Epoch 91/200\n",
      "555/555 [==============================] - 5s 9ms/step - loss: 0.1968 - accuracy: 0.9127 - val_loss: 0.5860 - val_accuracy: 0.8093\n",
      "Epoch 92/200\n",
      "555/555 [==============================] - 5s 9ms/step - loss: 0.1970 - accuracy: 0.9169 - val_loss: 0.5992 - val_accuracy: 0.8045\n",
      "Epoch 93/200\n",
      "555/555 [==============================] - 5s 9ms/step - loss: 0.1929 - accuracy: 0.9158 - val_loss: 0.5879 - val_accuracy: 0.8082\n",
      "Epoch 94/200\n",
      "555/555 [==============================] - 5s 9ms/step - loss: 0.1941 - accuracy: 0.9163 - val_loss: 0.5833 - val_accuracy: 0.8111\n",
      "Epoch 95/200\n",
      "555/555 [==============================] - 5s 9ms/step - loss: 0.1906 - accuracy: 0.9190 - val_loss: 0.6060 - val_accuracy: 0.8056\n",
      "Epoch 96/200\n",
      "555/555 [==============================] - 6s 10ms/step - loss: 0.1982 - accuracy: 0.9172 - val_loss: 0.5876 - val_accuracy: 0.8031\n",
      "Epoch 97/200\n",
      "555/555 [==============================] - 7s 12ms/step - loss: 0.1899 - accuracy: 0.9171 - val_loss: 0.5766 - val_accuracy: 0.8075\n",
      "Epoch 98/200\n",
      "555/555 [==============================] - 7s 13ms/step - loss: 0.1922 - accuracy: 0.9144 - val_loss: 0.5931 - val_accuracy: 0.8049\n",
      "Epoch 99/200\n",
      "555/555 [==============================] - 5s 9ms/step - loss: 0.1941 - accuracy: 0.9151 - val_loss: 0.5928 - val_accuracy: 0.8078\n",
      "Epoch 100/200\n",
      "555/555 [==============================] - 5s 9ms/step - loss: 0.1907 - accuracy: 0.9172 - val_loss: 0.5958 - val_accuracy: 0.8163\n",
      "Epoch 101/200\n",
      "555/555 [==============================] - 5s 9ms/step - loss: 0.1888 - accuracy: 0.9180 - val_loss: 0.6171 - val_accuracy: 0.8122\n",
      "Epoch 102/200\n",
      "555/555 [==============================] - 5s 9ms/step - loss: 0.1899 - accuracy: 0.9212 - val_loss: 0.6146 - val_accuracy: 0.8133\n",
      "Epoch 103/200\n",
      "555/555 [==============================] - 5s 9ms/step - loss: 0.1915 - accuracy: 0.9183 - val_loss: 0.6212 - val_accuracy: 0.8005\n",
      "Epoch 104/200\n",
      "555/555 [==============================] - 7s 12ms/step - loss: 0.1863 - accuracy: 0.9189 - val_loss: 0.6225 - val_accuracy: 0.8053\n",
      "Epoch 105/200\n",
      "555/555 [==============================] - 5s 9ms/step - loss: 0.1843 - accuracy: 0.9205 - val_loss: 0.6356 - val_accuracy: 0.8181\n",
      "Epoch 106/200\n",
      "555/555 [==============================] - 5s 9ms/step - loss: 0.1851 - accuracy: 0.9201 - val_loss: 0.6158 - val_accuracy: 0.8020\n",
      "Epoch 107/200\n",
      "555/555 [==============================] - 5s 9ms/step - loss: 0.1840 - accuracy: 0.9221 - val_loss: 0.6389 - val_accuracy: 0.7969\n",
      "Epoch 108/200\n",
      "555/555 [==============================] - 5s 9ms/step - loss: 0.1837 - accuracy: 0.9189 - val_loss: 0.6229 - val_accuracy: 0.8042\n",
      "Epoch 109/200\n",
      "555/555 [==============================] - 5s 9ms/step - loss: 0.1835 - accuracy: 0.9232 - val_loss: 0.6101 - val_accuracy: 0.8071\n",
      "Epoch 110/200\n",
      "555/555 [==============================] - 5s 8ms/step - loss: 0.1837 - accuracy: 0.9192 - val_loss: 0.6349 - val_accuracy: 0.7990\n",
      "Epoch 111/200\n",
      "555/555 [==============================] - 5s 9ms/step - loss: 0.1841 - accuracy: 0.9185 - val_loss: 0.6326 - val_accuracy: 0.8060\n",
      "Epoch 112/200\n",
      "555/555 [==============================] - 5s 9ms/step - loss: 0.1852 - accuracy: 0.9199 - val_loss: 0.6353 - val_accuracy: 0.8060\n",
      "Epoch 113/200\n",
      "555/555 [==============================] - 4s 8ms/step - loss: 0.1848 - accuracy: 0.9194 - val_loss: 0.6750 - val_accuracy: 0.8049\n",
      "Epoch 114/200\n",
      "555/555 [==============================] - 5s 10ms/step - loss: 0.1788 - accuracy: 0.9217 - val_loss: 0.6489 - val_accuracy: 0.8045\n"
     ]
    },
    {
     "name": "stdout",
     "output_type": "stream",
     "text": [
      "Epoch 115/200\n",
      "555/555 [==============================] - 7s 12ms/step - loss: 0.1803 - accuracy: 0.9235 - val_loss: 0.6329 - val_accuracy: 0.8067\n",
      "Epoch 116/200\n",
      "555/555 [==============================] - 5s 9ms/step - loss: 0.1817 - accuracy: 0.9241 - val_loss: 0.6530 - val_accuracy: 0.8001\n",
      "Epoch 117/200\n",
      "555/555 [==============================] - 5s 9ms/step - loss: 0.1781 - accuracy: 0.9225 - val_loss: 0.6599 - val_accuracy: 0.8042\n",
      "Epoch 118/200\n",
      "555/555 [==============================] - 5s 9ms/step - loss: 0.1784 - accuracy: 0.9225 - val_loss: 0.6242 - val_accuracy: 0.8119\n",
      "Epoch 119/200\n",
      "555/555 [==============================] - 5s 8ms/step - loss: 0.1808 - accuracy: 0.9230 - val_loss: 0.6546 - val_accuracy: 0.8115\n",
      "Epoch 120/200\n",
      "555/555 [==============================] - 5s 9ms/step - loss: 0.1807 - accuracy: 0.9230 - val_loss: 0.6582 - val_accuracy: 0.7969\n",
      "Epoch 121/200\n",
      "555/555 [==============================] - 5s 9ms/step - loss: 0.1728 - accuracy: 0.9219 - val_loss: 0.6573 - val_accuracy: 0.8133\n",
      "Epoch 122/200\n",
      "555/555 [==============================] - 7s 12ms/step - loss: 0.1751 - accuracy: 0.9266 - val_loss: 0.6482 - val_accuracy: 0.8053\n",
      "Epoch 123/200\n",
      "555/555 [==============================] - 5s 9ms/step - loss: 0.1756 - accuracy: 0.9252 - val_loss: 0.6550 - val_accuracy: 0.8104\n",
      "Epoch 124/200\n",
      "555/555 [==============================] - 5s 9ms/step - loss: 0.1750 - accuracy: 0.9246 - val_loss: 0.6606 - val_accuracy: 0.8020\n",
      "Epoch 125/200\n",
      "555/555 [==============================] - 5s 8ms/step - loss: 0.1738 - accuracy: 0.9257 - val_loss: 0.6800 - val_accuracy: 0.7994\n",
      "Epoch 126/200\n",
      "555/555 [==============================] - 5s 8ms/step - loss: 0.1779 - accuracy: 0.9192 - val_loss: 0.6766 - val_accuracy: 0.8111\n",
      "Epoch 127/200\n",
      "555/555 [==============================] - 6s 11ms/step - loss: 0.1705 - accuracy: 0.9275 - val_loss: 0.6610 - val_accuracy: 0.8060\n",
      "Epoch 128/200\n",
      "555/555 [==============================] - 7s 13ms/step - loss: 0.1743 - accuracy: 0.9226 - val_loss: 0.6544 - val_accuracy: 0.8071\n",
      "Epoch 129/200\n",
      "555/555 [==============================] - 7s 12ms/step - loss: 0.1736 - accuracy: 0.9250 - val_loss: 0.6924 - val_accuracy: 0.8064\n",
      "Epoch 130/200\n",
      "555/555 [==============================] - 6s 11ms/step - loss: 0.1694 - accuracy: 0.9263 - val_loss: 0.6770 - val_accuracy: 0.8023\n",
      "Epoch 131/200\n",
      "555/555 [==============================] - 5s 9ms/step - loss: 0.1734 - accuracy: 0.9254 - val_loss: 0.6620 - val_accuracy: 0.8064\n",
      "Epoch 132/200\n",
      "555/555 [==============================] - 5s 9ms/step - loss: 0.1699 - accuracy: 0.9266 - val_loss: 0.6671 - val_accuracy: 0.8023\n",
      "Epoch 133/200\n",
      "555/555 [==============================] - 5s 9ms/step - loss: 0.1666 - accuracy: 0.9281 - val_loss: 0.6794 - val_accuracy: 0.8060\n",
      "Epoch 134/200\n",
      "555/555 [==============================] - 5s 10ms/step - loss: 0.1682 - accuracy: 0.9261 - val_loss: 0.6756 - val_accuracy: 0.8064\n",
      "Epoch 135/200\n",
      "555/555 [==============================] - 6s 10ms/step - loss: 0.1678 - accuracy: 0.9297 - val_loss: 0.6760 - val_accuracy: 0.8038\n",
      "Epoch 136/200\n",
      "555/555 [==============================] - 6s 10ms/step - loss: 0.1700 - accuracy: 0.9257 - val_loss: 0.6722 - val_accuracy: 0.8005\n",
      "Epoch 137/200\n",
      "555/555 [==============================] - 7s 13ms/step - loss: 0.1680 - accuracy: 0.9291 - val_loss: 0.6888 - val_accuracy: 0.8071\n",
      "Epoch 138/200\n",
      "555/555 [==============================] - 5s 9ms/step - loss: 0.1692 - accuracy: 0.9284 - val_loss: 0.6965 - val_accuracy: 0.8060\n",
      "Epoch 139/200\n",
      "555/555 [==============================] - 5s 9ms/step - loss: 0.1659 - accuracy: 0.9266 - val_loss: 0.6921 - val_accuracy: 0.8056\n",
      "Epoch 140/200\n",
      "555/555 [==============================] - 5s 10ms/step - loss: 0.1666 - accuracy: 0.9257 - val_loss: 0.6780 - val_accuracy: 0.8097\n",
      "Epoch 141/200\n",
      "555/555 [==============================] - 6s 11ms/step - loss: 0.1639 - accuracy: 0.9263 - val_loss: 0.7121 - val_accuracy: 0.8034\n",
      "Epoch 142/200\n",
      "555/555 [==============================] - 8s 14ms/step - loss: 0.1636 - accuracy: 0.9329 - val_loss: 0.7026 - val_accuracy: 0.8115\n",
      "Epoch 143/200\n",
      "555/555 [==============================] - 8s 14ms/step - loss: 0.1651 - accuracy: 0.9291 - val_loss: 0.6973 - val_accuracy: 0.8045\n",
      "Epoch 144/200\n",
      "555/555 [==============================] - 8s 14ms/step - loss: 0.1665 - accuracy: 0.9279 - val_loss: 0.7237 - val_accuracy: 0.8049\n",
      "Epoch 145/200\n",
      "555/555 [==============================] - 5s 10ms/step - loss: 0.1635 - accuracy: 0.9318 - val_loss: 0.7093 - val_accuracy: 0.7877\n",
      "Epoch 146/200\n",
      "555/555 [==============================] - 5s 10ms/step - loss: 0.1619 - accuracy: 0.9318 - val_loss: 0.6994 - val_accuracy: 0.8093\n",
      "Epoch 147/200\n",
      "555/555 [==============================] - 6s 10ms/step - loss: 0.1618 - accuracy: 0.9270 - val_loss: 0.7042 - val_accuracy: 0.8045\n",
      "Epoch 148/200\n",
      "555/555 [==============================] - 6s 10ms/step - loss: 0.1665 - accuracy: 0.9272 - val_loss: 0.7112 - val_accuracy: 0.8020\n",
      "Epoch 149/200\n",
      "555/555 [==============================] - 7s 12ms/step - loss: 0.1635 - accuracy: 0.9290 - val_loss: 0.6942 - val_accuracy: 0.8075\n",
      "Epoch 150/200\n",
      "555/555 [==============================] - 5s 9ms/step - loss: 0.1588 - accuracy: 0.9326 - val_loss: 0.7251 - val_accuracy: 0.8100\n",
      "Epoch 151/200\n",
      "555/555 [==============================] - 5s 9ms/step - loss: 0.1602 - accuracy: 0.9288 - val_loss: 0.7321 - val_accuracy: 0.8056\n",
      "Epoch 152/200\n",
      "555/555 [==============================] - 5s 10ms/step - loss: 0.1632 - accuracy: 0.9268 - val_loss: 0.7127 - val_accuracy: 0.8064\n",
      "Epoch 153/200\n",
      "555/555 [==============================] - 5s 10ms/step - loss: 0.1580 - accuracy: 0.9333 - val_loss: 0.7284 - val_accuracy: 0.8086\n",
      "Epoch 154/200\n",
      "555/555 [==============================] - 5s 9ms/step - loss: 0.1608 - accuracy: 0.9300 - val_loss: 0.7363 - val_accuracy: 0.8067\n",
      "Epoch 155/200\n",
      "555/555 [==============================] - 5s 9ms/step - loss: 0.1579 - accuracy: 0.9327 - val_loss: 0.7257 - val_accuracy: 0.8053\n",
      "Epoch 156/200\n",
      "555/555 [==============================] - 5s 10ms/step - loss: 0.1594 - accuracy: 0.9322 - val_loss: 0.7282 - val_accuracy: 0.8089\n",
      "Epoch 157/200\n",
      "555/555 [==============================] - 6s 10ms/step - loss: 0.1585 - accuracy: 0.9322 - val_loss: 0.7454 - val_accuracy: 0.8045\n",
      "Epoch 158/200\n",
      "555/555 [==============================] - 5s 10ms/step - loss: 0.1591 - accuracy: 0.9308 - val_loss: 0.7390 - val_accuracy: 0.8078\n",
      "Epoch 159/200\n",
      "555/555 [==============================] - 5s 10ms/step - loss: 0.1568 - accuracy: 0.9318 - val_loss: 0.7433 - val_accuracy: 0.8049\n",
      "Epoch 160/200\n",
      "555/555 [==============================] - 5s 10ms/step - loss: 0.1564 - accuracy: 0.9351 - val_loss: 0.7415 - val_accuracy: 0.8075\n",
      "Epoch 161/200\n",
      "555/555 [==============================] - 5s 9ms/step - loss: 0.1549 - accuracy: 0.9342 - val_loss: 0.7375 - val_accuracy: 0.7954\n",
      "Epoch 162/200\n",
      "555/555 [==============================] - 6s 10ms/step - loss: 0.1535 - accuracy: 0.9356 - val_loss: 0.7461 - val_accuracy: 0.8056\n",
      "Epoch 163/200\n",
      "555/555 [==============================] - 8s 14ms/step - loss: 0.1589 - accuracy: 0.9324 - val_loss: 0.7591 - val_accuracy: 0.8016\n",
      "Epoch 164/200\n",
      "555/555 [==============================] - 7s 13ms/step - loss: 0.1579 - accuracy: 0.9326 - val_loss: 0.7349 - val_accuracy: 0.8060\n",
      "Epoch 165/200\n",
      "555/555 [==============================] - 6s 11ms/step - loss: 0.1543 - accuracy: 0.9290 - val_loss: 0.7571 - val_accuracy: 0.8009\n",
      "Epoch 166/200\n",
      "555/555 [==============================] - 7s 12ms/step - loss: 0.1524 - accuracy: 0.9353 - val_loss: 0.7594 - val_accuracy: 0.8086\n",
      "Epoch 167/200\n",
      "555/555 [==============================] - 5s 9ms/step - loss: 0.1568 - accuracy: 0.9306 - val_loss: 0.7583 - val_accuracy: 0.8020\n",
      "Epoch 168/200\n",
      "555/555 [==============================] - 6s 10ms/step - loss: 0.1549 - accuracy: 0.9324 - val_loss: 0.7704 - val_accuracy: 0.8005\n",
      "Epoch 169/200\n",
      "555/555 [==============================] - 5s 9ms/step - loss: 0.1551 - accuracy: 0.9324 - val_loss: 0.7413 - val_accuracy: 0.8075\n",
      "Epoch 170/200\n",
      "555/555 [==============================] - 6s 10ms/step - loss: 0.1519 - accuracy: 0.9338 - val_loss: 0.7503 - val_accuracy: 0.8045\n",
      "Epoch 171/200\n",
      "555/555 [==============================] - 5s 9ms/step - loss: 0.1481 - accuracy: 0.9383 - val_loss: 0.7394 - val_accuracy: 0.8053\n",
      "Epoch 172/200\n",
      "555/555 [==============================] - 5s 8ms/step - loss: 0.1512 - accuracy: 0.9365 - val_loss: 0.7808 - val_accuracy: 0.7998\n",
      "Epoch 173/200\n",
      "555/555 [==============================] - 5s 8ms/step - loss: 0.1510 - accuracy: 0.9333 - val_loss: 0.7571 - val_accuracy: 0.8089\n",
      "Epoch 174/200\n",
      "555/555 [==============================] - 5s 9ms/step - loss: 0.1501 - accuracy: 0.9342 - val_loss: 0.7733 - val_accuracy: 0.8078\n",
      "Epoch 175/200\n",
      "555/555 [==============================] - 5s 10ms/step - loss: 0.1495 - accuracy: 0.9358 - val_loss: 0.7818 - val_accuracy: 0.7983\n",
      "Epoch 176/200\n",
      "555/555 [==============================] - 6s 12ms/step - loss: 0.1517 - accuracy: 0.9344 - val_loss: 0.7794 - val_accuracy: 0.8060\n",
      "Epoch 177/200\n",
      "555/555 [==============================] - 5s 8ms/step - loss: 0.1516 - accuracy: 0.9351 - val_loss: 0.7614 - val_accuracy: 0.8067\n",
      "Epoch 178/200\n",
      "555/555 [==============================] - 5s 9ms/step - loss: 0.1466 - accuracy: 0.9349 - val_loss: 0.7751 - val_accuracy: 0.8023\n",
      "Epoch 179/200\n",
      "555/555 [==============================] - 5s 8ms/step - loss: 0.1499 - accuracy: 0.9385 - val_loss: 0.7800 - val_accuracy: 0.8056\n",
      "Epoch 180/200\n",
      "555/555 [==============================] - 5s 8ms/step - loss: 0.1488 - accuracy: 0.9389 - val_loss: 0.7736 - val_accuracy: 0.8067\n",
      "Epoch 181/200\n",
      "555/555 [==============================] - 4s 8ms/step - loss: 0.1488 - accuracy: 0.9358 - val_loss: 0.7972 - val_accuracy: 0.8005\n",
      "Epoch 182/200\n",
      "555/555 [==============================] - 5s 8ms/step - loss: 0.1487 - accuracy: 0.9354 - val_loss: 0.8253 - val_accuracy: 0.7954\n",
      "Epoch 183/200\n",
      "555/555 [==============================] - 5s 9ms/step - loss: 0.1479 - accuracy: 0.9364 - val_loss: 0.7593 - val_accuracy: 0.8067\n",
      "Epoch 184/200\n",
      "555/555 [==============================] - 5s 9ms/step - loss: 0.1391 - accuracy: 0.9403 - val_loss: 0.7912 - val_accuracy: 0.8067\n",
      "Epoch 185/200\n",
      "555/555 [==============================] - 5s 8ms/step - loss: 0.1463 - accuracy: 0.9369 - val_loss: 0.7922 - val_accuracy: 0.8034\n",
      "Epoch 186/200\n",
      "555/555 [==============================] - 5s 9ms/step - loss: 0.1453 - accuracy: 0.9391 - val_loss: 0.7994 - val_accuracy: 0.8001\n",
      "Epoch 187/200\n",
      "555/555 [==============================] - 5s 9ms/step - loss: 0.1537 - accuracy: 0.9302 - val_loss: 0.7783 - val_accuracy: 0.8067\n",
      "Epoch 188/200\n",
      "555/555 [==============================] - 5s 8ms/step - loss: 0.1453 - accuracy: 0.9374 - val_loss: 0.8030 - val_accuracy: 0.8020\n",
      "Epoch 189/200\n",
      "555/555 [==============================] - 5s 9ms/step - loss: 0.1427 - accuracy: 0.9387 - val_loss: 0.8067 - val_accuracy: 0.8049\n",
      "Epoch 190/200\n",
      "555/555 [==============================] - 5s 8ms/step - loss: 0.1462 - accuracy: 0.9349 - val_loss: 0.8061 - val_accuracy: 0.8056\n",
      "Epoch 191/200\n",
      "555/555 [==============================] - 5s 8ms/step - loss: 0.1439 - accuracy: 0.9367 - val_loss: 0.7919 - val_accuracy: 0.8053\n",
      "Epoch 192/200\n",
      "555/555 [==============================] - 5s 9ms/step - loss: 0.1438 - accuracy: 0.9412 - val_loss: 0.8062 - val_accuracy: 0.8027\n",
      "Epoch 193/200\n",
      "555/555 [==============================] - 7s 13ms/step - loss: 0.1419 - accuracy: 0.9405 - val_loss: 0.8000 - val_accuracy: 0.8067\n",
      "Epoch 194/200\n",
      "555/555 [==============================] - 5s 8ms/step - loss: 0.1397 - accuracy: 0.9394 - val_loss: 0.8246 - val_accuracy: 0.7976\n",
      "Epoch 195/200\n",
      "555/555 [==============================] - 5s 8ms/step - loss: 0.1418 - accuracy: 0.9400 - val_loss: 0.8139 - val_accuracy: 0.8049\n",
      "Epoch 196/200\n",
      "555/555 [==============================] - 5s 9ms/step - loss: 0.1432 - accuracy: 0.9409 - val_loss: 0.7929 - val_accuracy: 0.8023\n",
      "Epoch 197/200\n",
      "555/555 [==============================] - 5s 9ms/step - loss: 0.1504 - accuracy: 0.9329 - val_loss: 0.8185 - val_accuracy: 0.7987\n",
      "Epoch 198/200\n",
      "555/555 [==============================] - 5s 9ms/step - loss: 0.1408 - accuracy: 0.9396 - val_loss: 0.7985 - val_accuracy: 0.8067\n",
      "Epoch 199/200\n",
      "555/555 [==============================] - 5s 9ms/step - loss: 0.1433 - accuracy: 0.9382 - val_loss: 0.8043 - val_accuracy: 0.8045\n",
      "Epoch 200/200\n",
      "555/555 [==============================] - 5s 9ms/step - loss: 0.1423 - accuracy: 0.9380 - val_loss: 0.8130 - val_accuracy: 0.8045\n"
     ]
    }
   ],
   "source": [
    "model_history = classifier.fit(x_train,y_train,batch_size=10,validation_split=0.33,epochs=200)\n"
   ]
  },
  {
   "cell_type": "code",
   "execution_count": 73,
   "id": "74d12a7a",
   "metadata": {},
   "outputs": [
    {
     "name": "stdout",
     "output_type": "stream",
     "text": [
      "65/65 [==============================] - 5s 9ms/step\n"
     ]
    },
    {
     "data": {
      "text/plain": [
       "array([[False],\n",
       "       [False],\n",
       "       [False],\n",
       "       ...,\n",
       "       [False],\n",
       "       [False],\n",
       "       [False]])"
      ]
     },
     "execution_count": 73,
     "metadata": {},
     "output_type": "execute_result"
    }
   ],
   "source": [
    "ann_pred = classifier.predict(x_test)\n",
    "ann_pred = (ann_pred>0.5)\n",
    "ann_pred"
   ]
  },
  {
   "cell_type": "code",
   "execution_count": 74,
   "id": "523c496d",
   "metadata": {},
   "outputs": [
    {
     "name": "stdout",
     "output_type": "stream",
     "text": [
      "0.49420289855072463\n",
      "***ANN Model***\n",
      "confusion Matrix\n",
      "[[1021   12]\n",
      " [1035    2]]\n",
      "Classification Report\n",
      "              precision    recall  f1-score   support\n",
      "\n",
      "           0       0.50      0.99      0.66      1033\n",
      "           1       0.14      0.00      0.00      1037\n",
      "\n",
      "    accuracy                           0.49      2070\n",
      "   macro avg       0.32      0.50      0.33      2070\n",
      "weighted avg       0.32      0.49      0.33      2070\n",
      "\n"
     ]
    }
   ],
   "source": [
    "print(accuracy_score(ann_pred,y_test))\n",
    "print(\"***ANN Model***\")\n",
    "print(\"confusion Matrix\")\n",
    "print(confusion_matrix(y_test,ann_pred))\n",
    "print(\"Classification Report\")\n",
    "print(classification_report(y_test,ann_pred))"
   ]
  },
  {
   "cell_type": "code",
   "execution_count": 75,
   "id": "8eab08cc",
   "metadata": {},
   "outputs": [
    {
     "data": {
      "text/plain": [
       "(7043, 40)"
      ]
     },
     "execution_count": 75,
     "metadata": {},
     "output_type": "execute_result"
    }
   ],
   "source": [
    "x.shape"
   ]
  },
  {
   "cell_type": "code",
   "execution_count": 76,
   "id": "660d1fdb",
   "metadata": {},
   "outputs": [
    {
     "name": "stdout",
     "output_type": "stream",
     "text": [
      "predicting on random input\n",
      "output is: [0]\n"
     ]
    }
   ],
   "source": [
    "lr = LogisticRegression(random_state=0)\n",
    "lr.fit(x_train,y_train)\n",
    "print(\"predicting on random input\")\n",
    "lr_pred_own = lr.predict(sc.transform([[0,1,0,0,0,1,1,0,0,0,0,1,0,0,1,0,0,1,0,0,1,0,0,1,0,0,1,0,1,0,0,1,1,0,0,456,1,0,3245,4567]]))\n",
    "print(\"output is:\",lr_pred_own)"
   ]
  },
  {
   "cell_type": "code",
   "execution_count": 77,
   "id": "af8ab132",
   "metadata": {},
   "outputs": [
    {
     "name": "stdout",
     "output_type": "stream",
     "text": [
      "Predicting on Random input\n",
      "output is: [1]\n"
     ]
    }
   ],
   "source": [
    "dtc = DecisionTreeClassifier(criterion=\"entropy\",random_state=0)\n",
    "dtc.fit(x_train,y_train)\n",
    "print(\"Predicting on Random input\")\n",
    "dtc_pred_own = dtc.predict(sc.transform([[1,0,0,0,0,1,1,0,0,1,0,1,1,0,1,0,0,1,0,1,1,0,0,1,0,0,1,0,1,0,0,1,1,0,0,456,1,0,3245,4567]]))\n",
    "print(\"output is:\",dtc_pred_own)"
   ]
  },
  {
   "cell_type": "code",
   "execution_count": 78,
   "id": "cf80a5b8",
   "metadata": {},
   "outputs": [
    {
     "name": "stdout",
     "output_type": "stream",
     "text": [
      "Predicting on random input\n",
      "output is:  [1]\n"
     ]
    }
   ],
   "source": [
    "rf = RandomForestClassifier(criterion=\"entropy\",n_estimators=10,random_state=0)\n",
    "rf.fit(x_train,y_train)\n",
    "print(\"Predicting on random input\")\n",
    "rf_pred_own = rf.predict(sc.transform([[0,1,0,0,0,1,1,0,0,0,0,1,0,0,1,0,0,1,0,0,1,0,0,1,0,0,1,0,1,0,0,1,1,0,0,456,1,0,3245,4567]]))\n",
    "print(\"output is: \",rf_pred_own)\n"
   ]
  },
  {
   "cell_type": "code",
   "execution_count": 79,
   "id": "b27192a1",
   "metadata": {},
   "outputs": [
    {
     "name": "stdout",
     "output_type": "stream",
     "text": [
      "Predicting on the Random input\n",
      "output is: [0]\n"
     ]
    }
   ],
   "source": [
    "svc = SVC(kernel = \"linear\")\n",
    "svc.fit(x_train,y_train)\n",
    "print(\"Predicting on the Random input\")\n",
    "svm_pred_own = svc.predict(sc.transform([[0,1,0,0,0,1,1,0,0,0,0,1,0,0,1,0,0,1,0,0,1,0,0,1,0,0,1,0,1,0,0,1,1,0,0,456,1,0,3245,4567]]))\n",
    "print(\"output is:\",svm_pred_own)"
   ]
  },
  {
   "cell_type": "code",
   "execution_count": 80,
   "id": "94600125",
   "metadata": {},
   "outputs": [
    {
     "name": "stdout",
     "output_type": "stream",
     "text": [
      "Predicting on random input\n",
      "output is: [0]\n"
     ]
    },
    {
     "name": "stderr",
     "output_type": "stream",
     "text": [
      "C:\\Users\\ELCOT\\anaconda3\\lib\\site-packages\\sklearn\\neighbors\\_classification.py:228: FutureWarning: Unlike other reduction functions (e.g. `skew`, `kurtosis`), the default behavior of `mode` typically preserves the axis it acts along. In SciPy 1.11.0, this behavior will change: the default value of `keepdims` will become False, the `axis` over which the statistic is taken will be eliminated, and the value None will no longer be accepted. Set `keepdims` to True or False to avoid this warning.\n",
      "  mode, _ = stats.mode(_y[neigh_ind, k], axis=1)\n"
     ]
    }
   ],
   "source": [
    "knn = KNeighborsClassifier()\n",
    "knn.fit(x_train,y_train)\n",
    "print(\"Predicting on random input\")\n",
    "knn_pred_own = knn.predict(sc.transform([[0,1,0,0,0,1,1,0,0,0,0,1,0,0,1,0,0,1,0,0,1,0,0,1,0,0,1,0,1,0,0,1,1,0,0,456,1,0,3245,4567]]))\n",
    "print(\"output is:\",knn_pred_own)"
   ]
  },
  {
   "cell_type": "code",
   "execution_count": 81,
   "id": "8fb9c7fc",
   "metadata": {},
   "outputs": [
    {
     "name": "stdout",
     "output_type": "stream",
     "text": [
      "Predict on Random input\n",
      "1/1 [==============================] - 0s 132ms/step\n",
      "output is: [[1.5764177e-10]]\n"
     ]
    }
   ],
   "source": [
    "print(\"Predict on Random input\")\n",
    "ann_pred_own = classifier.predict(sc.transform([[0,0,0,0,1,0,1,0,0,0,0,1,0,0,1,0,0,1,0,0,1,0,0,1,0,0,1,0,1,0,0,1,1,0,0,0,1,0,3245,4567]]))\n",
    "print(\"output is:\",ann_pred_own)"
   ]
  },
  {
   "cell_type": "code",
   "execution_count": 82,
   "id": "c2a8ecf8",
   "metadata": {},
   "outputs": [],
   "source": [
    "def compareModel(x_train,x_test,y_train,y_test):\n",
    "    logreg(x_train,x_test,y_train,y_test)\n",
    "    print('-'*100)\n",
    "    decisionTree(x_train,x_test,y_train,y_test)\n",
    "    print('-'*100)\n",
    "    RandomForest(x_train,x_test,y_train,y_test)\n",
    "    print('-'*100)\n",
    "    svm(x_train,x_test,y_train,y_test)\n",
    "    print('-'*100)\n",
    "    KNN(x_train,x_test,y_train,y_test)\n",
    "    print('-'*100)"
   ]
  },
  {
   "cell_type": "code",
   "execution_count": 83,
   "id": "0f8884e7",
   "metadata": {},
   "outputs": [
    {
     "name": "stdout",
     "output_type": "stream",
     "text": [
      "0.7742208262865427\n",
      "0.7763285024154589\n",
      "***Logistic Regression***\n",
      "Confusion_Matrix\n",
      "[[750 283]\n",
      " [180 857]]\n",
      "Classification Report\n",
      "              precision    recall  f1-score   support\n",
      "\n",
      "           0       0.81      0.73      0.76      1033\n",
      "           1       0.75      0.83      0.79      1037\n",
      "\n",
      "    accuracy                           0.78      2070\n",
      "   macro avg       0.78      0.78      0.78      2070\n",
      "weighted avg       0.78      0.78      0.78      2070\n",
      "\n",
      "----------------------------------------------------------------------------------------------------\n",
      "0.9981879681082387\n",
      "0.7434782608695653\n",
      "***Decision Tree***\n",
      "Confusion_Matrix\n",
      "[[ 534  499]\n",
      " [  32 1005]]\n",
      "Classification Report\n",
      "              precision    recall  f1-score   support\n",
      "\n",
      "           0       0.94      0.52      0.67      1033\n",
      "           1       0.67      0.97      0.79      1037\n",
      "\n",
      "    accuracy                           0.74      2070\n",
      "   macro avg       0.81      0.74      0.73      2070\n",
      "weighted avg       0.81      0.74      0.73      2070\n",
      "\n",
      "----------------------------------------------------------------------------------------------------\n",
      "0.9874365788837883\n",
      "0.7304347826086957\n",
      "***Random Forest***\n",
      "Confusion Matrix\n",
      "[[ 510  523]\n",
      " [  35 1002]]\n",
      "              precision    recall  f1-score   support\n",
      "\n",
      "           0       0.94      0.49      0.65      1033\n",
      "           1       0.66      0.97      0.78      1037\n",
      "\n",
      "    accuracy                           0.73      2070\n",
      "   macro avg       0.80      0.73      0.71      2070\n",
      "weighted avg       0.80      0.73      0.71      2070\n",
      "\n",
      "----------------------------------------------------------------------------------------------------\n",
      "0.7622614158009181\n",
      "***Support Vector Machine***\n",
      "Confusion_Matrix\n",
      "[[711 322]\n",
      " [193 844]]\n",
      "Classification Report\n",
      "              precision    recall  f1-score   support\n",
      "\n",
      "           0       0.79      0.69      0.73      1033\n",
      "           1       0.72      0.81      0.77      1037\n",
      "\n",
      "    accuracy                           0.75      2070\n",
      "   macro avg       0.76      0.75      0.75      2070\n",
      "weighted avg       0.76      0.75      0.75      2070\n",
      "\n",
      "----------------------------------------------------------------------------------------------------\n"
     ]
    },
    {
     "name": "stderr",
     "output_type": "stream",
     "text": [
      "C:\\Users\\ELCOT\\anaconda3\\lib\\site-packages\\sklearn\\neighbors\\_classification.py:228: FutureWarning: Unlike other reduction functions (e.g. `skew`, `kurtosis`), the default behavior of `mode` typically preserves the axis it acts along. In SciPy 1.11.0, this behavior will change: the default value of `keepdims` will become False, the `axis` over which the statistic is taken will be eliminated, and the value None will no longer be accepted. Set `keepdims` to True or False to avoid this warning.\n",
      "  mode, _ = stats.mode(_y[neigh_ind, k], axis=1)\n"
     ]
    },
    {
     "name": "stdout",
     "output_type": "stream",
     "text": [
      "0.8535878231456874\n"
     ]
    },
    {
     "name": "stderr",
     "output_type": "stream",
     "text": [
      "C:\\Users\\ELCOT\\anaconda3\\lib\\site-packages\\sklearn\\neighbors\\_classification.py:228: FutureWarning: Unlike other reduction functions (e.g. `skew`, `kurtosis`), the default behavior of `mode` typically preserves the axis it acts along. In SciPy 1.11.0, this behavior will change: the default value of `keepdims` will become False, the `axis` over which the statistic is taken will be eliminated, and the value None will no longer be accepted. Set `keepdims` to True or False to avoid this warning.\n",
      "  mode, _ = stats.mode(_y[neigh_ind, k], axis=1)\n"
     ]
    },
    {
     "name": "stdout",
     "output_type": "stream",
     "text": [
      "0.7913043478260869\n",
      "***KNN***\n",
      "Confusion_Matrix\n",
      "[[716 317]\n",
      " [115 922]]\n",
      "Classification Report\n",
      "              precision    recall  f1-score   support\n",
      "\n",
      "           0       0.86      0.69      0.77      1033\n",
      "           1       0.74      0.89      0.81      1037\n",
      "\n",
      "    accuracy                           0.79      2070\n",
      "   macro avg       0.80      0.79      0.79      2070\n",
      "weighted avg       0.80      0.79      0.79      2070\n",
      "\n",
      "----------------------------------------------------------------------------------------------------\n"
     ]
    }
   ],
   "source": [
    "compareModel(x_train,x_test,y_train,y_test)"
   ]
  },
  {
   "cell_type": "code",
   "execution_count": 84,
   "id": "e0c80c83",
   "metadata": {},
   "outputs": [
    {
     "name": "stdout",
     "output_type": "stream",
     "text": [
      "0.49420289855072463\n",
      "***ANN Model***\n",
      "Confusion Matrix\n",
      "[[1021   12]\n",
      " [1035    2]]\n",
      "Classification Report\n",
      "              precision    recall  f1-score   support\n",
      "\n",
      "           0       0.50      0.99      0.66      1033\n",
      "           1       0.14      0.00      0.00      1037\n",
      "\n",
      "    accuracy                           0.49      2070\n",
      "   macro avg       0.32      0.50      0.33      2070\n",
      "weighted avg       0.32      0.49      0.33      2070\n",
      "\n"
     ]
    }
   ],
   "source": [
    "print(accuracy_score(ann_pred,y_test))\n",
    "print(\"***ANN Model***\")\n",
    "print(\"Confusion Matrix\")\n",
    "print(confusion_matrix(y_test,ann_pred))\n",
    "print(\"Classification Report\")\n",
    "print(classification_report(y_test,ann_pred))"
   ]
  },
  {
   "cell_type": "code",
   "execution_count": 96,
   "id": "6dfbd7dc",
   "metadata": {},
   "outputs": [
    {
     "ename": "AttributeError",
     "evalue": "module 'pyexpat.model' has no attribute 'predict'",
     "output_type": "error",
     "traceback": [
      "\u001b[1;31m---------------------------------------------------------------------------\u001b[0m",
      "\u001b[1;31mAttributeError\u001b[0m                            Traceback (most recent call last)",
      "\u001b[1;32m~\\AppData\\Local\\Temp\\ipykernel_13744\\1078976791.py\u001b[0m in \u001b[0;36m<module>\u001b[1;34m\u001b[0m\n\u001b[1;32m----> 1\u001b[1;33m \u001b[0my_rf\u001b[0m \u001b[1;33m=\u001b[0m \u001b[0mmodel\u001b[0m\u001b[1;33m.\u001b[0m\u001b[0mpredict\u001b[0m\u001b[1;33m(\u001b[0m\u001b[0mx_train\u001b[0m\u001b[1;33m)\u001b[0m\u001b[1;33m\u001b[0m\u001b[1;33m\u001b[0m\u001b[0m\n\u001b[0m\u001b[0;32m      2\u001b[0m \u001b[0mprint\u001b[0m\u001b[1;33m(\u001b[0m\u001b[0maccuracy_score\u001b[0m\u001b[1;33m(\u001b[0m\u001b[0my_rf\u001b[0m\u001b[1;33m,\u001b[0m\u001b[0my_train\u001b[0m\u001b[1;33m)\u001b[0m\u001b[1;33m)\u001b[0m\u001b[1;33m\u001b[0m\u001b[1;33m\u001b[0m\u001b[0m\n\u001b[0;32m      3\u001b[0m \u001b[0myPred_rfcv\u001b[0m \u001b[1;33m=\u001b[0m \u001b[0mmodel\u001b[0m\u001b[1;33m.\u001b[0m\u001b[0mpredict\u001b[0m\u001b[1;33m(\u001b[0m\u001b[0mx_test\u001b[0m\u001b[1;33m)\u001b[0m\u001b[1;33m\u001b[0m\u001b[1;33m\u001b[0m\u001b[0m\n\u001b[0;32m      4\u001b[0m \u001b[0mprint\u001b[0m\u001b[1;33m(\u001b[0m\u001b[0maccuracy_score\u001b[0m\u001b[1;33m(\u001b[0m\u001b[0myPred_rcfv\u001b[0m\u001b[1;33m,\u001b[0m\u001b[0my_test\u001b[0m\u001b[1;33m)\u001b[0m\u001b[1;33m)\u001b[0m\u001b[1;33m\u001b[0m\u001b[1;33m\u001b[0m\u001b[0m\n\u001b[0;32m      5\u001b[0m \u001b[0mprint\u001b[0m\u001b[1;33m(\u001b[0m\u001b[1;34m\"***Random Forest after Hyperparameter tuning***\"\u001b[0m\u001b[1;33m)\u001b[0m\u001b[1;33m\u001b[0m\u001b[1;33m\u001b[0m\u001b[0m\n",
      "\u001b[1;31mAttributeError\u001b[0m: module 'pyexpat.model' has no attribute 'predict'"
     ]
    }
   ],
   "source": [
    "y_rf = model.predict(x_train)\n",
    "print(accuracy_score(y_rf,y_train))\n",
    "yPred_rfcv = model.predict(x_test)\n",
    "print(accuracy_score(yPred_rcfv,y_test))\n",
    "print(\"***Random Forest after Hyperparameter tuning***\")\n",
    "print(\"Confusion_Matrix\")\n",
    "print(confusion_matrix(y_test,yPred_rfcv))\n",
    "print(\"Classification Report\")\n",
    "print(classification_report(y_test,yPred_rfcv))\n",
    "print(\"predicting on random input\")\n",
    "rfcv_pred_own = Model.predict(sc.transform([[0,1,0,0,0,1,1,0,0,0,0,1,0,0,1,0,0,1,0,0,1,0,0,1,0,0,1,0,1,0,0,1,1,0,0,456,1,0,3245,4567]]))\n",
    "print(\"output is:\",rfcv_pred_own)                                            "
   ]
  },
  {
   "cell_type": "code",
   "execution_count": 94,
   "id": "d08d0a39",
   "metadata": {},
   "outputs": [],
   "source": [
    "from keras.models import Model"
   ]
  },
  {
   "cell_type": "code",
   "execution_count": null,
   "id": "96ae5928",
   "metadata": {},
   "outputs": [],
   "source": []
  },
  {
   "cell_type": "code",
   "execution_count": 90,
   "id": "5565d7fb",
   "metadata": {},
   "outputs": [
    {
     "name": "stderr",
     "output_type": "stream",
     "text": [
      "WARNING:absl:Found untraced functions such as _update_step_xla while saving (showing 1 of 1). These functions will not be directly callable after loading.\n"
     ]
    },
    {
     "name": "stdout",
     "output_type": "stream",
     "text": [
      "INFO:tensorflow:Assets written to: telecom_churn.hs\\assets\n"
     ]
    },
    {
     "name": "stderr",
     "output_type": "stream",
     "text": [
      "INFO:tensorflow:Assets written to: telecom_churn.hs\\assets\n"
     ]
    }
   ],
   "source": [
    "classifier.save(\"telecom_churn.hs\")"
   ]
  },
  {
   "cell_type": "code",
   "execution_count": 91,
   "id": "a0fc56c0",
   "metadata": {},
   "outputs": [],
   "source": [
    "from flask import Flask, render_template, request\n",
    "import keras\n",
    "from keras.models import load_model"
   ]
  },
  {
   "cell_type": "code",
   "execution_count": 92,
   "id": "34910ec9",
   "metadata": {},
   "outputs": [],
   "source": [
    "app = Flask(__name__)\n",
    "model = load_model(\"telecom_churn.hs\")"
   ]
  },
  {
   "cell_type": "code",
   "execution_count": 2,
   "id": "6cc60f6e",
   "metadata": {},
   "outputs": [
    {
     "ename": "NameError",
     "evalue": "name 'app' is not defined",
     "output_type": "error",
     "traceback": [
      "\u001b[1;31m---------------------------------------------------------------------------\u001b[0m",
      "\u001b[1;31mNameError\u001b[0m                                 Traceback (most recent call last)",
      "\u001b[1;32m~\\AppData\\Local\\Temp\\ipykernel_7128\\3887857136.py\u001b[0m in \u001b[0;36m<module>\u001b[1;34m\u001b[0m\n\u001b[1;32m----> 1\u001b[1;33m \u001b[1;33m@\u001b[0m\u001b[0mapp\u001b[0m\u001b[1;33m.\u001b[0m\u001b[0mroute\u001b[0m\u001b[1;33m(\u001b[0m\u001b[1;34m'/'\u001b[0m\u001b[1;33m)\u001b[0m\u001b[1;33m\u001b[0m\u001b[1;33m\u001b[0m\u001b[0m\n\u001b[0m\u001b[0;32m      2\u001b[0m \u001b[1;32mdef\u001b[0m \u001b[0mhome\u001b[0m\u001b[1;33m(\u001b[0m\u001b[1;33m)\u001b[0m\u001b[1;33m:\u001b[0m\u001b[1;33m\u001b[0m\u001b[1;33m\u001b[0m\u001b[0m\n\u001b[0;32m      3\u001b[0m     \u001b[1;32mreturn\u001b[0m \u001b[0mrender_template\u001b[0m\u001b[1;33m(\u001b[0m\u001b[1;34m'home.html'\u001b[0m\u001b[1;33m)\u001b[0m\u001b[1;33m\u001b[0m\u001b[1;33m\u001b[0m\u001b[0m\n",
      "\u001b[1;31mNameError\u001b[0m: name 'app' is not defined"
     ]
    }
   ],
   "source": [
    "@app.route('/')\n",
    "def home():\n",
    "    return render_template('home.html')"
   ]
  },
  {
   "cell_type": "code",
   "execution_count": null,
   "id": "99e583a9",
   "metadata": {},
   "outputs": [],
   "source": [
    "@app.route('/')\n",
    "def helloworld():\n",
    "    return render_template(\"base.html\")\n",
    "@app.route('/assesment')\n",
    "def prediction():\n",
    "    return render_template(\"index.html\")\n",
    "@app.route('/predict', methods = ['POST'])\n",
    "def admin():\n",
    "    a= request.form[\"gender\"]\n",
    "    if (a =='f'):\n",
    "        a=0\n",
    "    if (a == 'm'):\n",
    "        a=1\n",
    "    b= request.form[\"srcitizen\"]\n",
    "    if (b == 'n'):\n",
    "        b=0\n",
    "    if (b == 'y'):\n",
    "        b=1\n",
    "    c= request.form[\"partner\"]\n",
    "    if (c == 'n'):\n",
    "        c=0\n",
    "    if (c == 'y'):\n",
    "        c=1\n",
    "    d= request.form[\"dependents\"]\n",
    "    if (d == 'y'):\n",
    "        d=1\n",
    "    e= request.form[\"tenure\"]\n",
    "    f= request.form[\"phservices\"]\n",
    "    if (f == 'n'):\n",
    "        f=0\n",
    "    if (f == 'y'):\n",
    "        f=1\n",
    "    g= request.form[\"multi\"] \n",
    "    if (g == 'n'):\n",
    "        g=0\n",
    "    if (g == 'n'):\n",
    "        g1,g2,g3=1,0,0\n",
    "    if (g == 'nps'):\n",
    "        g1,g2,g3=0,1,0\n",
    "    if (g == 'y'):\n",
    "        g1,g2,g3=0,0,1\n",
    "    h= request.form[\"is\"]\n",
    "    if (h == 'dsl'):\n",
    "        h1,h2,h3=1,0,0\n",
    "    if (h == 'fo'):\n",
    "        h1,h2,h3=0,1,0\n",
    "    if (h == 'n'):\n",
    "        h1,h2,h3=0,0,1\n",
    "    i= request.form[\"os\"]\n",
    "    if (i == 'n'):\n",
    "        i1,i2,i3=1,0,0\n",
    "    if (i == 'nis'):\n",
    "        i1,i2,i3=0,1,0\n",
    "    if (i == 'y'):\n",
    "        i1,i2,i3=0,0,1\n",
    "    j= request.form[\"ob\"]\n",
    "    if (j == 'n'):\n",
    "        j1,j2,j3=1,0,0\n",
    "    if (j == 'nis'):\n",
    "        j1,j2,j3=0,1,0\n",
    "    if (j == 'y'):\n",
    "        j1,j2,j3=0,0,1\n",
    "    k= request.form[\"dp\"]\n",
    "    if (k == 'n'):\n",
    "        k1,k2,k3=1,0,0\n",
    "    if (k == 'nis'):\n",
    "        k1,k2,k3=0,1,0\n",
    "    if (k == 'y'):\n",
    "        k1,k2,k3=0,0,1\n",
    "    l= request.form[\"ts\"]\n",
    "    if (l == 'n'):\n",
    "        l1,l2,l3=1,0,0\n",
    "    if (l == 'nis'):\n",
    "        l1,l2,l3=0,1,0\n",
    "    if (l == 'y'):\n",
    "        l1,l2,l3=0,0,1\n",
    "    m= request.form[\"stv\"]\n",
    "    if (m == 'n'):\n",
    "        m1,m2,m3=1,0,0\n",
    "    if (m == 'nis'):\n",
    "        m1,m2,m3=0,1,0\n",
    "    if (m == 'y'):\n",
    "        m1,m2,m3=0,0,1\n",
    "    n= request.form[\"smv\"]\n",
    "    if (n == 'n'):\n",
    "        n1,n2,n3=1,0,0\n",
    "    if (n == 'nis'):\n",
    "        n1,n2,n3=0,1,0\n",
    "    if (n == 'y'):\n",
    "        n1,n2,n3=0,0,1\n",
    "    o= request.form[\"contract\"]\n",
    "    if (o == 'mtm'):\n",
    "        o1,o2,o3=1,0,0\n",
    "    if (o == 'oyr'):\n",
    "        o1,o2,o3=0,1,0\n",
    "    if (o == 'tyrs'):\n",
    "        o1,o2,o3=0,0,1\n",
    "    p= request.form[\"pmt\"]\n",
    "    if (p == 'ec'):\n",
    "        p1,p2,p3,p4=1,0,0,0\n",
    "    if (p == 'mail'):\n",
    "        p1,p2,p3,p4=0,1,0,0\n",
    "    if (p == 'bt'):\n",
    "        p1,p2,p3,p4=0,0,1,0\n",
    "    if (p == 'cc'):\n",
    "        p1,p2,p3,p4=0,0,0,1\n",
    "    q= request.form[\"plb\"]\n",
    "    if (q== 'n'):\n",
    "        q=0\n",
    "    if (q == 'y'):\n",
    "        q=1\n",
    "    r= request.form[\"mcharges\"]\n",
    "    s= request.form[\"tcharges\"]\n",
    "     \n",
    "    t=[[int(g1),int(g2),int(g3),int(h1),int(h2),int(h3),int(i1),int(i2),int(i3),int(j1)]]\n",
    "    print(t)\n",
    "    x = model.predict(t)\n",
    "    print(x[0])\n",
    "    if (x[[0]] <=0.5):\n",
    "        y = \"No\"\n",
    "        return render_template(\"predno.html\", z = y)\n",
    "    if (x[[0]] >= 0.5):\n",
    "        y=\"Yes\"\n",
    "        return render_template(\"predyes.html\", z = y)\n",
    "    \n",
    "    "
   ]
  },
  {
   "cell_type": "code",
   "execution_count": 95,
   "id": "110ebdb4",
   "metadata": {},
   "outputs": [
    {
     "name": "stdout",
     "output_type": "stream",
     "text": [
      "(8278, 40)\n"
     ]
    }
   ],
   "source": [
    "\n",
    "print(x_train.shape)"
   ]
  },
  {
   "cell_type": "code",
   "execution_count": null,
   "id": "0b0f94f6",
   "metadata": {},
   "outputs": [],
   "source": [
    "\n",
    "\n",
    "\n",
    "\n",
    "\n",
    "\n",
    "print(x_test.shape)"
   ]
  },
  {
   "cell_type": "code",
   "execution_count": null,
   "id": "2c96012f",
   "metadata": {},
   "outputs": [],
   "source": [
    "\n",
    "\n",
    "print(y_train.shape)"
   ]
  },
  {
   "cell_type": "code",
   "execution_count": null,
   "id": "1e9f1fb4",
   "metadata": {},
   "outputs": [],
   "source": [
    "print(y_test.shape)"
   ]
  },
  {
   "cell_type": "code",
   "execution_count": null,
   "id": "da5d4c2a",
   "metadata": {},
   "outputs": [],
   "source": [
    "print(x_train.shape)\n",
    "print(x_test.shape)\n",
    "print(y_train.shape)\n",
    "print(y_test.shape)"
   ]
  },
  {
   "cell_type": "code",
   "execution_count": null,
   "id": "94757cf2",
   "metadata": {},
   "outputs": [],
   "source": []
  },
  {
   "cell_type": "code",
   "execution_count": null,
   "id": "e70f6373",
   "metadata": {},
   "outputs": [],
   "source": [
    "x_train"
   ]
  },
  {
   "cell_type": "code",
   "execution_count": null,
   "id": "c0e54172",
   "metadata": {},
   "outputs": [],
   "source": [
    "x_test"
   ]
  },
  {
   "cell_type": "markdown",
   "id": "78b73871",
   "metadata": {},
   "source": [
    "# Model Building"
   ]
  },
  {
   "cell_type": "code",
   "execution_count": null,
   "id": "4bbed0b8",
   "metadata": {},
   "outputs": [],
   "source": [
    "from sklearn.svm import SVC\n",
    "svm=SVC(kernel='linear')\n",
    "svm.fit(x_train,y_train)"
   ]
  },
  {
   "cell_type": "code",
   "execution_count": null,
   "id": "019868bf",
   "metadata": {},
   "outputs": [],
   "source": [
    "svm_pred=svm.predict(x_test)\n",
    "svm_pred"
   ]
  },
  {
   "cell_type": "code",
   "execution_count": null,
   "id": "0caabdec",
   "metadata": {
    "scrolled": true
   },
   "outputs": [],
   "source": [
    "from sklearn.metrics import accuracy_score\n",
    "svm_acc=accuracy_score(svm_pred,y_test)\n",
    "svm_acc"
   ]
  },
  {
   "cell_type": "code",
   "execution_count": null,
   "id": "c19c9d6c",
   "metadata": {},
   "outputs": [],
   "source": [
    "from sklearn.metrics import confusion_matrix\n",
    "svm_cm=confusion_matrix(svm_pred,y_test)\n",
    "svm_cm"
   ]
  },
  {
   "cell_type": "code",
   "execution_count": null,
   "id": "263d2140",
   "metadata": {},
   "outputs": [],
   "source": [
    "import sklearn.metrics as metrics\n",
    "fpr,tpr,threshold=metrics.roc_curve(y_test,svm_pred)\n",
    "roc_auc=metrics.auc(fpr,tpr)"
   ]
  },
  {
   "cell_type": "code",
   "execution_count": null,
   "id": "198cd1dc",
   "metadata": {},
   "outputs": [],
   "source": [
    "import matplotlib.pyplot as plt\n",
    "plt.title(\"ROC_AUC CURVE for SVM\")\n",
    "plt.plot(fpr,tpr,'g',label='auc=%0.2f'%roc_auc)\n",
    "plt.plot([0,1],[0,1],'r--')\n",
    "plt.xlim([0,1])\n",
    "plt.ylim([0,1])\n",
    "plt.xlabel('tpr')\n",
    "plt.ylabel('tpr')\n",
    "plt.legend(loc='lower right')"
   ]
  },
  {
   "cell_type": "code",
   "execution_count": null,
   "id": "6522a892",
   "metadata": {},
   "outputs": [],
   "source": [
    "import pickle\n",
    "pickle.dump(svm,open('churnnew.pkl','wb'))"
   ]
  },
  {
   "cell_type": "code",
   "execution_count": null,
   "id": "29cc7db7",
   "metadata": {},
   "outputs": [],
   "source": []
  },
  {
   "cell_type": "code",
   "execution_count": null,
   "id": "a1bd06f4",
   "metadata": {},
   "outputs": [],
   "source": []
  },
  {
   "cell_type": "code",
   "execution_count": null,
   "id": "bb3f0584",
   "metadata": {},
   "outputs": [],
   "source": []
  }
 ],
 "metadata": {
  "kernelspec": {
   "display_name": "Python 3 (ipykernel)",
   "language": "python",
   "name": "python3"
  },
  "language_info": {
   "codemirror_mode": {
    "name": "ipython",
    "version": 3
   },
   "file_extension": ".py",
   "mimetype": "text/x-python",
   "name": "python",
   "nbconvert_exporter": "python",
   "pygments_lexer": "ipython3",
   "version": "3.9.13"
  }
 },
 "nbformat": 4,
 "nbformat_minor": 5
}
